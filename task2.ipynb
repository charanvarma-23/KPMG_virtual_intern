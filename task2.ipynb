{
 "cells": [
  {
   "cell_type": "code",
   "execution_count": 825,
   "id": "ee0864f7",
   "metadata": {},
   "outputs": [],
   "source": [
    "import pandas as pd\n",
    "import datetime\n",
    "import numpy as np\n",
    "import matplotlib.pyplot as plt\n",
    "import seaborn as sns\n",
    "%matplotlib inline\n",
    "import warnings\n",
    "import warnings\n",
    "warnings.filterwarnings(\"ignore\", category=DeprecationWarning) "
   ]
  },
  {
   "cell_type": "code",
   "execution_count": 826,
   "id": "0bc36060",
   "metadata": {},
   "outputs": [],
   "source": [
    "cust_demo = pd.read_csv('customerdemo.csv')\n",
    "new_cust = pd.read_csv('newcustomer.csv')"
   ]
  },
  {
   "cell_type": "code",
   "execution_count": 827,
   "id": "07d7fe40",
   "metadata": {},
   "outputs": [
    {
     "data": {
      "text/html": [
       "<div>\n",
       "<style scoped>\n",
       "    .dataframe tbody tr th:only-of-type {\n",
       "        vertical-align: middle;\n",
       "    }\n",
       "\n",
       "    .dataframe tbody tr th {\n",
       "        vertical-align: top;\n",
       "    }\n",
       "\n",
       "    .dataframe thead th {\n",
       "        text-align: right;\n",
       "    }\n",
       "</style>\n",
       "<table border=\"1\" class=\"dataframe\">\n",
       "  <thead>\n",
       "    <tr style=\"text-align: right;\">\n",
       "      <th></th>\n",
       "      <th>customer_id</th>\n",
       "      <th>first_name</th>\n",
       "      <th>last_name</th>\n",
       "      <th>gender</th>\n",
       "      <th>past_3_years_bike_related_purchases</th>\n",
       "      <th>DOB</th>\n",
       "      <th>job_title</th>\n",
       "      <th>job_industry_category</th>\n",
       "      <th>wealth_segment</th>\n",
       "      <th>deceased_indicator</th>\n",
       "      <th>owns_car</th>\n",
       "      <th>tenure</th>\n",
       "      <th>address</th>\n",
       "      <th>postcode</th>\n",
       "      <th>state</th>\n",
       "      <th>country</th>\n",
       "      <th>property_valuation</th>\n",
       "    </tr>\n",
       "  </thead>\n",
       "  <tbody>\n",
       "    <tr>\n",
       "      <th>0</th>\n",
       "      <td>1</td>\n",
       "      <td>Laraine</td>\n",
       "      <td>Medendorp</td>\n",
       "      <td>Female</td>\n",
       "      <td>93</td>\n",
       "      <td>1953-10-12</td>\n",
       "      <td>Executive Secretary</td>\n",
       "      <td>Health</td>\n",
       "      <td>Mass Customer</td>\n",
       "      <td>N</td>\n",
       "      <td>Yes</td>\n",
       "      <td>11.0</td>\n",
       "      <td>060 Morning Avenue</td>\n",
       "      <td>2016</td>\n",
       "      <td>New South Wales</td>\n",
       "      <td>Australia</td>\n",
       "      <td>10</td>\n",
       "    </tr>\n",
       "    <tr>\n",
       "      <th>1</th>\n",
       "      <td>2</td>\n",
       "      <td>Eli</td>\n",
       "      <td>Bockman</td>\n",
       "      <td>Male</td>\n",
       "      <td>81</td>\n",
       "      <td>1980-12-16</td>\n",
       "      <td>Administrative Officer</td>\n",
       "      <td>Financial Services</td>\n",
       "      <td>Mass Customer</td>\n",
       "      <td>N</td>\n",
       "      <td>Yes</td>\n",
       "      <td>16.0</td>\n",
       "      <td>6 Meadow Vale Court</td>\n",
       "      <td>2153</td>\n",
       "      <td>New South Wales</td>\n",
       "      <td>Australia</td>\n",
       "      <td>10</td>\n",
       "    </tr>\n",
       "    <tr>\n",
       "      <th>2</th>\n",
       "      <td>4</td>\n",
       "      <td>Talbot</td>\n",
       "      <td>NaN</td>\n",
       "      <td>Male</td>\n",
       "      <td>33</td>\n",
       "      <td>1961-10-03</td>\n",
       "      <td>NaN</td>\n",
       "      <td>IT</td>\n",
       "      <td>Mass Customer</td>\n",
       "      <td>N</td>\n",
       "      <td>No</td>\n",
       "      <td>7.0</td>\n",
       "      <td>0 Holy Cross Court</td>\n",
       "      <td>4211</td>\n",
       "      <td>QLD</td>\n",
       "      <td>Australia</td>\n",
       "      <td>9</td>\n",
       "    </tr>\n",
       "    <tr>\n",
       "      <th>3</th>\n",
       "      <td>5</td>\n",
       "      <td>Sheila-kathryn</td>\n",
       "      <td>Calton</td>\n",
       "      <td>Female</td>\n",
       "      <td>56</td>\n",
       "      <td>1977-05-13</td>\n",
       "      <td>Senior Editor</td>\n",
       "      <td>NaN</td>\n",
       "      <td>Affluent Customer</td>\n",
       "      <td>N</td>\n",
       "      <td>Yes</td>\n",
       "      <td>8.0</td>\n",
       "      <td>17979 Del Mar Point</td>\n",
       "      <td>2448</td>\n",
       "      <td>New South Wales</td>\n",
       "      <td>Australia</td>\n",
       "      <td>4</td>\n",
       "    </tr>\n",
       "    <tr>\n",
       "      <th>4</th>\n",
       "      <td>6</td>\n",
       "      <td>Curr</td>\n",
       "      <td>Duckhouse</td>\n",
       "      <td>Male</td>\n",
       "      <td>35</td>\n",
       "      <td>1966-09-16</td>\n",
       "      <td>NaN</td>\n",
       "      <td>Retail</td>\n",
       "      <td>High Net Worth</td>\n",
       "      <td>N</td>\n",
       "      <td>Yes</td>\n",
       "      <td>13.0</td>\n",
       "      <td>9 Oakridge Court</td>\n",
       "      <td>3216</td>\n",
       "      <td>VIC</td>\n",
       "      <td>Australia</td>\n",
       "      <td>9</td>\n",
       "    </tr>\n",
       "  </tbody>\n",
       "</table>\n",
       "</div>"
      ],
      "text/plain": [
       "   customer_id      first_name  last_name  gender  \\\n",
       "0            1         Laraine  Medendorp  Female   \n",
       "1            2             Eli    Bockman    Male   \n",
       "2            4          Talbot        NaN    Male   \n",
       "3            5  Sheila-kathryn     Calton  Female   \n",
       "4            6            Curr  Duckhouse    Male   \n",
       "\n",
       "   past_3_years_bike_related_purchases         DOB               job_title  \\\n",
       "0                                   93  1953-10-12     Executive Secretary   \n",
       "1                                   81  1980-12-16  Administrative Officer   \n",
       "2                                   33  1961-10-03                     NaN   \n",
       "3                                   56  1977-05-13           Senior Editor   \n",
       "4                                   35  1966-09-16                     NaN   \n",
       "\n",
       "  job_industry_category     wealth_segment deceased_indicator owns_car  \\\n",
       "0                Health      Mass Customer                  N      Yes   \n",
       "1    Financial Services      Mass Customer                  N      Yes   \n",
       "2                    IT      Mass Customer                  N       No   \n",
       "3                   NaN  Affluent Customer                  N      Yes   \n",
       "4                Retail     High Net Worth                  N      Yes   \n",
       "\n",
       "   tenure              address  postcode            state    country  \\\n",
       "0    11.0   060 Morning Avenue      2016  New South Wales  Australia   \n",
       "1    16.0  6 Meadow Vale Court      2153  New South Wales  Australia   \n",
       "2     7.0   0 Holy Cross Court      4211              QLD  Australia   \n",
       "3     8.0  17979 Del Mar Point      2448  New South Wales  Australia   \n",
       "4    13.0     9 Oakridge Court      3216              VIC  Australia   \n",
       "\n",
       "   property_valuation  \n",
       "0                  10  \n",
       "1                  10  \n",
       "2                   9  \n",
       "3                   4  \n",
       "4                   9  "
      ]
     },
     "execution_count": 827,
     "metadata": {},
     "output_type": "execute_result"
    }
   ],
   "source": [
    "cust_demo.head()"
   ]
  },
  {
   "cell_type": "code",
   "execution_count": 828,
   "id": "8d4155cf",
   "metadata": {
    "scrolled": true
   },
   "outputs": [
    {
     "name": "stdout",
     "output_type": "stream",
     "text": [
      "<class 'pandas.core.frame.DataFrame'>\n",
      "RangeIndex: 3996 entries, 0 to 3995\n",
      "Data columns (total 17 columns):\n",
      " #   Column                               Non-Null Count  Dtype  \n",
      "---  ------                               --------------  -----  \n",
      " 0   customer_id                          3996 non-null   int64  \n",
      " 1   first_name                           3996 non-null   object \n",
      " 2   last_name                            3871 non-null   object \n",
      " 3   gender                               3996 non-null   object \n",
      " 4   past_3_years_bike_related_purchases  3996 non-null   int64  \n",
      " 5   DOB                                  3909 non-null   object \n",
      " 6   job_title                            3492 non-null   object \n",
      " 7   job_industry_category                3341 non-null   object \n",
      " 8   wealth_segment                       3996 non-null   object \n",
      " 9   deceased_indicator                   3996 non-null   object \n",
      " 10  owns_car                             3996 non-null   object \n",
      " 11  tenure                               3909 non-null   float64\n",
      " 12  address                              3996 non-null   object \n",
      " 13  postcode                             3996 non-null   int64  \n",
      " 14  state                                3996 non-null   object \n",
      " 15  country                              3996 non-null   object \n",
      " 16  property_valuation                   3996 non-null   int64  \n",
      "dtypes: float64(1), int64(4), object(12)\n",
      "memory usage: 530.8+ KB\n"
     ]
    }
   ],
   "source": [
    "cust_demo.info()"
   ]
  },
  {
   "cell_type": "code",
   "execution_count": 829,
   "id": "8442ba88",
   "metadata": {},
   "outputs": [
    {
     "data": {
      "text/html": [
       "<div>\n",
       "<style scoped>\n",
       "    .dataframe tbody tr th:only-of-type {\n",
       "        vertical-align: middle;\n",
       "    }\n",
       "\n",
       "    .dataframe tbody tr th {\n",
       "        vertical-align: top;\n",
       "    }\n",
       "\n",
       "    .dataframe thead th {\n",
       "        text-align: right;\n",
       "    }\n",
       "</style>\n",
       "<table border=\"1\" class=\"dataframe\">\n",
       "  <thead>\n",
       "    <tr style=\"text-align: right;\">\n",
       "      <th></th>\n",
       "      <th>customer_id</th>\n",
       "      <th>first_name</th>\n",
       "      <th>last_name</th>\n",
       "      <th>gender</th>\n",
       "      <th>past_3_years_bike_related_purchases</th>\n",
       "      <th>DOB</th>\n",
       "      <th>job_title</th>\n",
       "      <th>job_industry_category</th>\n",
       "      <th>wealth_segment</th>\n",
       "      <th>deceased_indicator</th>\n",
       "      <th>owns_car</th>\n",
       "      <th>tenure</th>\n",
       "      <th>address</th>\n",
       "      <th>postcode</th>\n",
       "      <th>state</th>\n",
       "      <th>country</th>\n",
       "      <th>property_valuation</th>\n",
       "      <th>Rank</th>\n",
       "      <th>Value</th>\n",
       "    </tr>\n",
       "  </thead>\n",
       "  <tbody>\n",
       "    <tr>\n",
       "      <th>0</th>\n",
       "      <td>4001</td>\n",
       "      <td>Chickie</td>\n",
       "      <td>Brister</td>\n",
       "      <td>Male</td>\n",
       "      <td>86</td>\n",
       "      <td>7/12/1957</td>\n",
       "      <td>General Manager</td>\n",
       "      <td>Manufacturing</td>\n",
       "      <td>Mass Customer</td>\n",
       "      <td>N</td>\n",
       "      <td>Yes</td>\n",
       "      <td>14</td>\n",
       "      <td>45 Shopko Center</td>\n",
       "      <td>4500</td>\n",
       "      <td>QLD</td>\n",
       "      <td>Australia</td>\n",
       "      <td>6</td>\n",
       "      <td>1</td>\n",
       "      <td>1.718750</td>\n",
       "    </tr>\n",
       "    <tr>\n",
       "      <th>1</th>\n",
       "      <td>4002</td>\n",
       "      <td>Morly</td>\n",
       "      <td>Genery</td>\n",
       "      <td>Male</td>\n",
       "      <td>69</td>\n",
       "      <td>3/22/1970</td>\n",
       "      <td>Structural Engineer</td>\n",
       "      <td>Property</td>\n",
       "      <td>Mass Customer</td>\n",
       "      <td>N</td>\n",
       "      <td>No</td>\n",
       "      <td>16</td>\n",
       "      <td>14 Mccormick Park</td>\n",
       "      <td>2113</td>\n",
       "      <td>NSW</td>\n",
       "      <td>Australia</td>\n",
       "      <td>11</td>\n",
       "      <td>1</td>\n",
       "      <td>1.718750</td>\n",
       "    </tr>\n",
       "    <tr>\n",
       "      <th>2</th>\n",
       "      <td>4003</td>\n",
       "      <td>Ardelis</td>\n",
       "      <td>Forrester</td>\n",
       "      <td>Female</td>\n",
       "      <td>10</td>\n",
       "      <td>8/28/1974</td>\n",
       "      <td>Senior Cost Accountant</td>\n",
       "      <td>Financial Services</td>\n",
       "      <td>Affluent Customer</td>\n",
       "      <td>N</td>\n",
       "      <td>No</td>\n",
       "      <td>10</td>\n",
       "      <td>5 Colorado Crossing</td>\n",
       "      <td>3505</td>\n",
       "      <td>VIC</td>\n",
       "      <td>Australia</td>\n",
       "      <td>5</td>\n",
       "      <td>1</td>\n",
       "      <td>1.718750</td>\n",
       "    </tr>\n",
       "    <tr>\n",
       "      <th>3</th>\n",
       "      <td>4004</td>\n",
       "      <td>Lucine</td>\n",
       "      <td>Stutt</td>\n",
       "      <td>Female</td>\n",
       "      <td>64</td>\n",
       "      <td>1/28/1979</td>\n",
       "      <td>Account Representative III</td>\n",
       "      <td>Manufacturing</td>\n",
       "      <td>Affluent Customer</td>\n",
       "      <td>N</td>\n",
       "      <td>Yes</td>\n",
       "      <td>5</td>\n",
       "      <td>207 Annamark Plaza</td>\n",
       "      <td>4814</td>\n",
       "      <td>QLD</td>\n",
       "      <td>Australia</td>\n",
       "      <td>1</td>\n",
       "      <td>4</td>\n",
       "      <td>1.703125</td>\n",
       "    </tr>\n",
       "    <tr>\n",
       "      <th>4</th>\n",
       "      <td>4005</td>\n",
       "      <td>Melinda</td>\n",
       "      <td>Hadlee</td>\n",
       "      <td>Female</td>\n",
       "      <td>34</td>\n",
       "      <td>9/21/1965</td>\n",
       "      <td>Financial Analyst</td>\n",
       "      <td>Financial Services</td>\n",
       "      <td>Affluent Customer</td>\n",
       "      <td>N</td>\n",
       "      <td>No</td>\n",
       "      <td>19</td>\n",
       "      <td>115 Montana Place</td>\n",
       "      <td>2093</td>\n",
       "      <td>NSW</td>\n",
       "      <td>Australia</td>\n",
       "      <td>9</td>\n",
       "      <td>4</td>\n",
       "      <td>1.703125</td>\n",
       "    </tr>\n",
       "  </tbody>\n",
       "</table>\n",
       "</div>"
      ],
      "text/plain": [
       "   customer_id first_name  last_name  gender  \\\n",
       "0         4001    Chickie    Brister    Male   \n",
       "1         4002      Morly     Genery    Male   \n",
       "2         4003    Ardelis  Forrester  Female   \n",
       "3         4004     Lucine      Stutt  Female   \n",
       "4         4005    Melinda     Hadlee  Female   \n",
       "\n",
       "   past_3_years_bike_related_purchases        DOB                   job_title  \\\n",
       "0                                   86  7/12/1957             General Manager   \n",
       "1                                   69  3/22/1970         Structural Engineer   \n",
       "2                                   10  8/28/1974      Senior Cost Accountant   \n",
       "3                                   64  1/28/1979  Account Representative III   \n",
       "4                                   34  9/21/1965           Financial Analyst   \n",
       "\n",
       "  job_industry_category     wealth_segment deceased_indicator owns_car  \\\n",
       "0         Manufacturing      Mass Customer                  N      Yes   \n",
       "1              Property      Mass Customer                  N       No   \n",
       "2    Financial Services  Affluent Customer                  N       No   \n",
       "3         Manufacturing  Affluent Customer                  N      Yes   \n",
       "4    Financial Services  Affluent Customer                  N       No   \n",
       "\n",
       "   tenure              address  postcode state    country  property_valuation  \\\n",
       "0      14     45 Shopko Center      4500   QLD  Australia                   6   \n",
       "1      16    14 Mccormick Park      2113   NSW  Australia                  11   \n",
       "2      10  5 Colorado Crossing      3505   VIC  Australia                   5   \n",
       "3       5   207 Annamark Plaza      4814   QLD  Australia                   1   \n",
       "4      19    115 Montana Place      2093   NSW  Australia                   9   \n",
       "\n",
       "   Rank     Value  \n",
       "0     1  1.718750  \n",
       "1     1  1.718750  \n",
       "2     1  1.718750  \n",
       "3     4  1.703125  \n",
       "4     4  1.703125  "
      ]
     },
     "execution_count": 829,
     "metadata": {},
     "output_type": "execute_result"
    }
   ],
   "source": [
    "new_cust.head()"
   ]
  },
  {
   "cell_type": "code",
   "execution_count": 830,
   "id": "07b05b14",
   "metadata": {},
   "outputs": [
    {
     "data": {
      "text/plain": [
       "customer_id                              0\n",
       "first_name                               0\n",
       "last_name                               29\n",
       "gender                                   0\n",
       "past_3_years_bike_related_purchases      0\n",
       "DOB                                     17\n",
       "job_title                              106\n",
       "job_industry_category                  165\n",
       "wealth_segment                           0\n",
       "deceased_indicator                       0\n",
       "owns_car                                 0\n",
       "tenure                                   0\n",
       "address                                  0\n",
       "postcode                                 0\n",
       "state                                    0\n",
       "country                                  0\n",
       "property_valuation                       0\n",
       "Rank                                     0\n",
       "Value                                    0\n",
       "dtype: int64"
      ]
     },
     "execution_count": 830,
     "metadata": {},
     "output_type": "execute_result"
    }
   ],
   "source": [
    "new_cust.isnull().sum()"
   ]
  },
  {
   "cell_type": "markdown",
   "id": "05729d62",
   "metadata": {},
   "source": [
    "## replace dob with age"
   ]
  },
  {
   "cell_type": "code",
   "execution_count": 831,
   "id": "60422c68",
   "metadata": {
    "scrolled": true
   },
   "outputs": [
    {
     "name": "stdout",
     "output_type": "stream",
     "text": [
      "<class 'pandas.core.frame.DataFrame'>\n",
      "RangeIndex: 3996 entries, 0 to 3995\n",
      "Data columns (total 17 columns):\n",
      " #   Column                               Non-Null Count  Dtype         \n",
      "---  ------                               --------------  -----         \n",
      " 0   customer_id                          3996 non-null   int64         \n",
      " 1   first_name                           3996 non-null   object        \n",
      " 2   last_name                            3871 non-null   object        \n",
      " 3   gender                               3996 non-null   object        \n",
      " 4   past_3_years_bike_related_purchases  3996 non-null   int64         \n",
      " 5   DOB                                  3909 non-null   datetime64[ns]\n",
      " 6   job_title                            3492 non-null   object        \n",
      " 7   job_industry_category                3341 non-null   object        \n",
      " 8   wealth_segment                       3996 non-null   object        \n",
      " 9   deceased_indicator                   3996 non-null   object        \n",
      " 10  owns_car                             3996 non-null   object        \n",
      " 11  tenure                               3909 non-null   float64       \n",
      " 12  address                              3996 non-null   object        \n",
      " 13  postcode                             3996 non-null   int64         \n",
      " 14  state                                3996 non-null   object        \n",
      " 15  country                              3996 non-null   object        \n",
      " 16  property_valuation                   3996 non-null   int64         \n",
      "dtypes: datetime64[ns](1), float64(1), int64(4), object(11)\n",
      "memory usage: 530.8+ KB\n"
     ]
    }
   ],
   "source": [
    "cust_demo['DOB'] = pd.to_datetime(cust_demo['DOB'])\n",
    "cust_demo.info()"
   ]
  },
  {
   "cell_type": "code",
   "execution_count": 832,
   "id": "c391a933",
   "metadata": {},
   "outputs": [
    {
     "name": "stdout",
     "output_type": "stream",
     "text": [
      "<class 'pandas.core.frame.DataFrame'>\n",
      "RangeIndex: 1000 entries, 0 to 999\n",
      "Data columns (total 19 columns):\n",
      " #   Column                               Non-Null Count  Dtype         \n",
      "---  ------                               --------------  -----         \n",
      " 0   customer_id                          1000 non-null   int64         \n",
      " 1   first_name                           1000 non-null   object        \n",
      " 2   last_name                            971 non-null    object        \n",
      " 3   gender                               1000 non-null   object        \n",
      " 4   past_3_years_bike_related_purchases  1000 non-null   int64         \n",
      " 5   DOB                                  983 non-null    datetime64[ns]\n",
      " 6   job_title                            894 non-null    object        \n",
      " 7   job_industry_category                835 non-null    object        \n",
      " 8   wealth_segment                       1000 non-null   object        \n",
      " 9   deceased_indicator                   1000 non-null   object        \n",
      " 10  owns_car                             1000 non-null   object        \n",
      " 11  tenure                               1000 non-null   int64         \n",
      " 12  address                              1000 non-null   object        \n",
      " 13  postcode                             1000 non-null   int64         \n",
      " 14  state                                1000 non-null   object        \n",
      " 15  country                              1000 non-null   object        \n",
      " 16  property_valuation                   1000 non-null   int64         \n",
      " 17  Rank                                 1000 non-null   int64         \n",
      " 18  Value                                1000 non-null   float64       \n",
      "dtypes: datetime64[ns](1), float64(1), int64(6), object(11)\n",
      "memory usage: 148.6+ KB\n"
     ]
    }
   ],
   "source": [
    "new_cust['DOB'] = pd.to_datetime(new_cust['DOB'])\n",
    "new_cust.info()"
   ]
  },
  {
   "cell_type": "code",
   "execution_count": 841,
   "id": "aa2a24e6",
   "metadata": {},
   "outputs": [
    {
     "data": {
      "text/html": [
       "<div>\n",
       "<style scoped>\n",
       "    .dataframe tbody tr th:only-of-type {\n",
       "        vertical-align: middle;\n",
       "    }\n",
       "\n",
       "    .dataframe tbody tr th {\n",
       "        vertical-align: top;\n",
       "    }\n",
       "\n",
       "    .dataframe thead th {\n",
       "        text-align: right;\n",
       "    }\n",
       "</style>\n",
       "<table border=\"1\" class=\"dataframe\">\n",
       "  <thead>\n",
       "    <tr style=\"text-align: right;\">\n",
       "      <th></th>\n",
       "      <th>customer_id</th>\n",
       "      <th>first_name</th>\n",
       "      <th>last_name</th>\n",
       "      <th>gender</th>\n",
       "      <th>past_3_years_bike_related_purchases</th>\n",
       "      <th>DOB</th>\n",
       "      <th>job_title</th>\n",
       "      <th>job_industry_category</th>\n",
       "      <th>wealth_segment</th>\n",
       "      <th>deceased_indicator</th>\n",
       "      <th>owns_car</th>\n",
       "      <th>tenure</th>\n",
       "      <th>address</th>\n",
       "      <th>postcode</th>\n",
       "      <th>state</th>\n",
       "      <th>country</th>\n",
       "      <th>property_valuation</th>\n",
       "      <th>age</th>\n",
       "    </tr>\n",
       "  </thead>\n",
       "  <tbody>\n",
       "    <tr>\n",
       "      <th>0</th>\n",
       "      <td>1</td>\n",
       "      <td>Laraine</td>\n",
       "      <td>Medendorp</td>\n",
       "      <td>Female</td>\n",
       "      <td>93</td>\n",
       "      <td>1953-10-12</td>\n",
       "      <td>Executive Secretary</td>\n",
       "      <td>Health</td>\n",
       "      <td>Mass Customer</td>\n",
       "      <td>N</td>\n",
       "      <td>Yes</td>\n",
       "      <td>11.0</td>\n",
       "      <td>060 Morning Avenue</td>\n",
       "      <td>2016</td>\n",
       "      <td>New South Wales</td>\n",
       "      <td>Australia</td>\n",
       "      <td>10</td>\n",
       "      <td>67.0</td>\n",
       "    </tr>\n",
       "  </tbody>\n",
       "</table>\n",
       "</div>"
      ],
      "text/plain": [
       "   customer_id first_name  last_name  gender  \\\n",
       "0            1    Laraine  Medendorp  Female   \n",
       "\n",
       "   past_3_years_bike_related_purchases        DOB            job_title  \\\n",
       "0                                   93 1953-10-12  Executive Secretary   \n",
       "\n",
       "  job_industry_category wealth_segment deceased_indicator owns_car  tenure  \\\n",
       "0                Health  Mass Customer                  N      Yes    11.0   \n",
       "\n",
       "              address  postcode            state    country  \\\n",
       "0  060 Morning Avenue      2016  New South Wales  Australia   \n",
       "\n",
       "   property_valuation   age  \n",
       "0                  10  67.0  "
      ]
     },
     "execution_count": 841,
     "metadata": {},
     "output_type": "execute_result"
    }
   ],
   "source": [
    "today = pd.to_datetime('today')\n",
    "diff_y = today.year -cust_demo['DOB'].dt.year\n",
    "# Haven't had birthday\n",
    "b_md = cust_demo['DOB'].apply(lambda x: (x.month,x.day) )\n",
    "no_birthday = b_md > (today.month,today.day)\n",
    "cust_demo['age'] = diff_y - no_birthday\n",
    "cust_demo[:1][:]"
   ]
  },
  {
   "cell_type": "code",
   "execution_count": 842,
   "id": "6f506f06",
   "metadata": {},
   "outputs": [
    {
     "data": {
      "text/html": [
       "<div>\n",
       "<style scoped>\n",
       "    .dataframe tbody tr th:only-of-type {\n",
       "        vertical-align: middle;\n",
       "    }\n",
       "\n",
       "    .dataframe tbody tr th {\n",
       "        vertical-align: top;\n",
       "    }\n",
       "\n",
       "    .dataframe thead th {\n",
       "        text-align: right;\n",
       "    }\n",
       "</style>\n",
       "<table border=\"1\" class=\"dataframe\">\n",
       "  <thead>\n",
       "    <tr style=\"text-align: right;\">\n",
       "      <th></th>\n",
       "      <th>customer_id</th>\n",
       "      <th>first_name</th>\n",
       "      <th>last_name</th>\n",
       "      <th>gender</th>\n",
       "      <th>past_3_years_bike_related_purchases</th>\n",
       "      <th>DOB</th>\n",
       "      <th>job_title</th>\n",
       "      <th>job_industry_category</th>\n",
       "      <th>wealth_segment</th>\n",
       "      <th>deceased_indicator</th>\n",
       "      <th>owns_car</th>\n",
       "      <th>tenure</th>\n",
       "      <th>address</th>\n",
       "      <th>postcode</th>\n",
       "      <th>state</th>\n",
       "      <th>country</th>\n",
       "      <th>property_valuation</th>\n",
       "      <th>Rank</th>\n",
       "      <th>Value</th>\n",
       "      <th>age</th>\n",
       "    </tr>\n",
       "  </thead>\n",
       "  <tbody>\n",
       "    <tr>\n",
       "      <th>0</th>\n",
       "      <td>4001</td>\n",
       "      <td>Chickie</td>\n",
       "      <td>Brister</td>\n",
       "      <td>Male</td>\n",
       "      <td>86</td>\n",
       "      <td>1957-07-12</td>\n",
       "      <td>General Manager</td>\n",
       "      <td>Manufacturing</td>\n",
       "      <td>Mass Customer</td>\n",
       "      <td>N</td>\n",
       "      <td>Yes</td>\n",
       "      <td>14</td>\n",
       "      <td>45 Shopko Center</td>\n",
       "      <td>4500</td>\n",
       "      <td>QLD</td>\n",
       "      <td>Australia</td>\n",
       "      <td>6</td>\n",
       "      <td>1</td>\n",
       "      <td>1.71875</td>\n",
       "      <td>63.0</td>\n",
       "    </tr>\n",
       "  </tbody>\n",
       "</table>\n",
       "</div>"
      ],
      "text/plain": [
       "   customer_id first_name last_name gender  \\\n",
       "0         4001    Chickie   Brister   Male   \n",
       "\n",
       "   past_3_years_bike_related_purchases        DOB        job_title  \\\n",
       "0                                   86 1957-07-12  General Manager   \n",
       "\n",
       "  job_industry_category wealth_segment deceased_indicator owns_car  tenure  \\\n",
       "0         Manufacturing  Mass Customer                  N      Yes      14   \n",
       "\n",
       "            address  postcode state    country  property_valuation  Rank  \\\n",
       "0  45 Shopko Center      4500   QLD  Australia                   6     1   \n",
       "\n",
       "     Value   age  \n",
       "0  1.71875  63.0  "
      ]
     },
     "execution_count": 842,
     "metadata": {},
     "output_type": "execute_result"
    }
   ],
   "source": [
    "today = pd.to_datetime('today')\n",
    "diff_y = today.year -new_cust['DOB'].dt.year\n",
    "# Haven't had birthday\n",
    "b_md = new_cust['DOB'].apply(lambda x: (x.month,x.day) )\n",
    "no_birthday = b_md > (today.month,today.day)\n",
    "new_cust['age'] = diff_y - no_birthday\n",
    "new_cust[:1][:]"
   ]
  },
  {
   "cell_type": "code",
   "execution_count": 843,
   "id": "dda4f04e",
   "metadata": {},
   "outputs": [
    {
     "data": {
      "text/plain": [
       "Timestamp('2021-06-13 09:07:24.230640')"
      ]
     },
     "execution_count": 843,
     "metadata": {},
     "output_type": "execute_result"
    }
   ],
   "source": [
    "today"
   ]
  },
  {
   "cell_type": "code",
   "execution_count": 845,
   "id": "31c077ab",
   "metadata": {},
   "outputs": [
    {
     "data": {
      "text/html": [
       "<div>\n",
       "<style scoped>\n",
       "    .dataframe tbody tr th:only-of-type {\n",
       "        vertical-align: middle;\n",
       "    }\n",
       "\n",
       "    .dataframe tbody tr th {\n",
       "        vertical-align: top;\n",
       "    }\n",
       "\n",
       "    .dataframe thead th {\n",
       "        text-align: right;\n",
       "    }\n",
       "</style>\n",
       "<table border=\"1\" class=\"dataframe\">\n",
       "  <thead>\n",
       "    <tr style=\"text-align: right;\">\n",
       "      <th></th>\n",
       "      <th>customer_id</th>\n",
       "      <th>first_name</th>\n",
       "      <th>last_name</th>\n",
       "      <th>gender</th>\n",
       "      <th>past_3_years_bike_related_purchases</th>\n",
       "      <th>DOB</th>\n",
       "      <th>job_title</th>\n",
       "      <th>job_industry_category</th>\n",
       "      <th>wealth_segment</th>\n",
       "      <th>deceased_indicator</th>\n",
       "      <th>owns_car</th>\n",
       "      <th>tenure</th>\n",
       "      <th>address</th>\n",
       "      <th>postcode</th>\n",
       "      <th>state</th>\n",
       "      <th>country</th>\n",
       "      <th>property_valuation</th>\n",
       "      <th>age</th>\n",
       "    </tr>\n",
       "  </thead>\n",
       "  <tbody>\n",
       "    <tr>\n",
       "      <th>0</th>\n",
       "      <td>1</td>\n",
       "      <td>Laraine</td>\n",
       "      <td>Medendorp</td>\n",
       "      <td>Female</td>\n",
       "      <td>93</td>\n",
       "      <td>1953-10-12</td>\n",
       "      <td>Executive Secretary</td>\n",
       "      <td>Health</td>\n",
       "      <td>Mass Customer</td>\n",
       "      <td>N</td>\n",
       "      <td>Yes</td>\n",
       "      <td>11.0</td>\n",
       "      <td>060 Morning Avenue</td>\n",
       "      <td>2016</td>\n",
       "      <td>New South Wales</td>\n",
       "      <td>Australia</td>\n",
       "      <td>10</td>\n",
       "      <td>67.0</td>\n",
       "    </tr>\n",
       "    <tr>\n",
       "      <th>1</th>\n",
       "      <td>2</td>\n",
       "      <td>Eli</td>\n",
       "      <td>Bockman</td>\n",
       "      <td>Male</td>\n",
       "      <td>81</td>\n",
       "      <td>1980-12-16</td>\n",
       "      <td>Administrative Officer</td>\n",
       "      <td>Financial Services</td>\n",
       "      <td>Mass Customer</td>\n",
       "      <td>N</td>\n",
       "      <td>Yes</td>\n",
       "      <td>16.0</td>\n",
       "      <td>6 Meadow Vale Court</td>\n",
       "      <td>2153</td>\n",
       "      <td>New South Wales</td>\n",
       "      <td>Australia</td>\n",
       "      <td>10</td>\n",
       "      <td>40.0</td>\n",
       "    </tr>\n",
       "    <tr>\n",
       "      <th>2</th>\n",
       "      <td>4</td>\n",
       "      <td>Talbot</td>\n",
       "      <td>NaN</td>\n",
       "      <td>Male</td>\n",
       "      <td>33</td>\n",
       "      <td>1961-10-03</td>\n",
       "      <td>NaN</td>\n",
       "      <td>IT</td>\n",
       "      <td>Mass Customer</td>\n",
       "      <td>N</td>\n",
       "      <td>No</td>\n",
       "      <td>7.0</td>\n",
       "      <td>0 Holy Cross Court</td>\n",
       "      <td>4211</td>\n",
       "      <td>QLD</td>\n",
       "      <td>Australia</td>\n",
       "      <td>9</td>\n",
       "      <td>59.0</td>\n",
       "    </tr>\n",
       "    <tr>\n",
       "      <th>3</th>\n",
       "      <td>5</td>\n",
       "      <td>Sheila-kathryn</td>\n",
       "      <td>Calton</td>\n",
       "      <td>Female</td>\n",
       "      <td>56</td>\n",
       "      <td>1977-05-13</td>\n",
       "      <td>Senior Editor</td>\n",
       "      <td>NaN</td>\n",
       "      <td>Affluent Customer</td>\n",
       "      <td>N</td>\n",
       "      <td>Yes</td>\n",
       "      <td>8.0</td>\n",
       "      <td>17979 Del Mar Point</td>\n",
       "      <td>2448</td>\n",
       "      <td>New South Wales</td>\n",
       "      <td>Australia</td>\n",
       "      <td>4</td>\n",
       "      <td>44.0</td>\n",
       "    </tr>\n",
       "    <tr>\n",
       "      <th>4</th>\n",
       "      <td>6</td>\n",
       "      <td>Curr</td>\n",
       "      <td>Duckhouse</td>\n",
       "      <td>Male</td>\n",
       "      <td>35</td>\n",
       "      <td>1966-09-16</td>\n",
       "      <td>NaN</td>\n",
       "      <td>Retail</td>\n",
       "      <td>High Net Worth</td>\n",
       "      <td>N</td>\n",
       "      <td>Yes</td>\n",
       "      <td>13.0</td>\n",
       "      <td>9 Oakridge Court</td>\n",
       "      <td>3216</td>\n",
       "      <td>VIC</td>\n",
       "      <td>Australia</td>\n",
       "      <td>9</td>\n",
       "      <td>54.0</td>\n",
       "    </tr>\n",
       "  </tbody>\n",
       "</table>\n",
       "</div>"
      ],
      "text/plain": [
       "   customer_id      first_name  last_name  gender  \\\n",
       "0            1         Laraine  Medendorp  Female   \n",
       "1            2             Eli    Bockman    Male   \n",
       "2            4          Talbot        NaN    Male   \n",
       "3            5  Sheila-kathryn     Calton  Female   \n",
       "4            6            Curr  Duckhouse    Male   \n",
       "\n",
       "   past_3_years_bike_related_purchases        DOB               job_title  \\\n",
       "0                                   93 1953-10-12     Executive Secretary   \n",
       "1                                   81 1980-12-16  Administrative Officer   \n",
       "2                                   33 1961-10-03                     NaN   \n",
       "3                                   56 1977-05-13           Senior Editor   \n",
       "4                                   35 1966-09-16                     NaN   \n",
       "\n",
       "  job_industry_category     wealth_segment deceased_indicator owns_car  \\\n",
       "0                Health      Mass Customer                  N      Yes   \n",
       "1    Financial Services      Mass Customer                  N      Yes   \n",
       "2                    IT      Mass Customer                  N       No   \n",
       "3                   NaN  Affluent Customer                  N      Yes   \n",
       "4                Retail     High Net Worth                  N      Yes   \n",
       "\n",
       "   tenure              address  postcode            state    country  \\\n",
       "0    11.0   060 Morning Avenue      2016  New South Wales  Australia   \n",
       "1    16.0  6 Meadow Vale Court      2153  New South Wales  Australia   \n",
       "2     7.0   0 Holy Cross Court      4211              QLD  Australia   \n",
       "3     8.0  17979 Del Mar Point      2448  New South Wales  Australia   \n",
       "4    13.0     9 Oakridge Court      3216              VIC  Australia   \n",
       "\n",
       "   property_valuation   age  \n",
       "0                  10  67.0  \n",
       "1                  10  40.0  \n",
       "2                   9  59.0  \n",
       "3                   4  44.0  \n",
       "4                   9  54.0  "
      ]
     },
     "execution_count": 845,
     "metadata": {},
     "output_type": "execute_result"
    }
   ],
   "source": [
    "cust_demo.head()"
   ]
  },
  {
   "cell_type": "code",
   "execution_count": 846,
   "id": "b98eb806",
   "metadata": {},
   "outputs": [
    {
     "data": {
      "text/html": [
       "<div>\n",
       "<style scoped>\n",
       "    .dataframe tbody tr th:only-of-type {\n",
       "        vertical-align: middle;\n",
       "    }\n",
       "\n",
       "    .dataframe tbody tr th {\n",
       "        vertical-align: top;\n",
       "    }\n",
       "\n",
       "    .dataframe thead th {\n",
       "        text-align: right;\n",
       "    }\n",
       "</style>\n",
       "<table border=\"1\" class=\"dataframe\">\n",
       "  <thead>\n",
       "    <tr style=\"text-align: right;\">\n",
       "      <th></th>\n",
       "      <th>customer_id</th>\n",
       "      <th>first_name</th>\n",
       "      <th>last_name</th>\n",
       "      <th>gender</th>\n",
       "      <th>past_3_years_bike_related_purchases</th>\n",
       "      <th>DOB</th>\n",
       "      <th>job_title</th>\n",
       "      <th>job_industry_category</th>\n",
       "      <th>wealth_segment</th>\n",
       "      <th>deceased_indicator</th>\n",
       "      <th>owns_car</th>\n",
       "      <th>tenure</th>\n",
       "      <th>address</th>\n",
       "      <th>postcode</th>\n",
       "      <th>state</th>\n",
       "      <th>country</th>\n",
       "      <th>property_valuation</th>\n",
       "      <th>Rank</th>\n",
       "      <th>Value</th>\n",
       "      <th>age</th>\n",
       "    </tr>\n",
       "  </thead>\n",
       "  <tbody>\n",
       "    <tr>\n",
       "      <th>0</th>\n",
       "      <td>4001</td>\n",
       "      <td>Chickie</td>\n",
       "      <td>Brister</td>\n",
       "      <td>Male</td>\n",
       "      <td>86</td>\n",
       "      <td>1957-07-12</td>\n",
       "      <td>General Manager</td>\n",
       "      <td>Manufacturing</td>\n",
       "      <td>Mass Customer</td>\n",
       "      <td>N</td>\n",
       "      <td>Yes</td>\n",
       "      <td>14</td>\n",
       "      <td>45 Shopko Center</td>\n",
       "      <td>4500</td>\n",
       "      <td>QLD</td>\n",
       "      <td>Australia</td>\n",
       "      <td>6</td>\n",
       "      <td>1</td>\n",
       "      <td>1.718750</td>\n",
       "      <td>63.0</td>\n",
       "    </tr>\n",
       "    <tr>\n",
       "      <th>1</th>\n",
       "      <td>4002</td>\n",
       "      <td>Morly</td>\n",
       "      <td>Genery</td>\n",
       "      <td>Male</td>\n",
       "      <td>69</td>\n",
       "      <td>1970-03-22</td>\n",
       "      <td>Structural Engineer</td>\n",
       "      <td>Property</td>\n",
       "      <td>Mass Customer</td>\n",
       "      <td>N</td>\n",
       "      <td>No</td>\n",
       "      <td>16</td>\n",
       "      <td>14 Mccormick Park</td>\n",
       "      <td>2113</td>\n",
       "      <td>NSW</td>\n",
       "      <td>Australia</td>\n",
       "      <td>11</td>\n",
       "      <td>1</td>\n",
       "      <td>1.718750</td>\n",
       "      <td>51.0</td>\n",
       "    </tr>\n",
       "    <tr>\n",
       "      <th>2</th>\n",
       "      <td>4003</td>\n",
       "      <td>Ardelis</td>\n",
       "      <td>Forrester</td>\n",
       "      <td>Female</td>\n",
       "      <td>10</td>\n",
       "      <td>1974-08-28</td>\n",
       "      <td>Senior Cost Accountant</td>\n",
       "      <td>Financial Services</td>\n",
       "      <td>Affluent Customer</td>\n",
       "      <td>N</td>\n",
       "      <td>No</td>\n",
       "      <td>10</td>\n",
       "      <td>5 Colorado Crossing</td>\n",
       "      <td>3505</td>\n",
       "      <td>VIC</td>\n",
       "      <td>Australia</td>\n",
       "      <td>5</td>\n",
       "      <td>1</td>\n",
       "      <td>1.718750</td>\n",
       "      <td>46.0</td>\n",
       "    </tr>\n",
       "    <tr>\n",
       "      <th>3</th>\n",
       "      <td>4004</td>\n",
       "      <td>Lucine</td>\n",
       "      <td>Stutt</td>\n",
       "      <td>Female</td>\n",
       "      <td>64</td>\n",
       "      <td>1979-01-28</td>\n",
       "      <td>Account Representative III</td>\n",
       "      <td>Manufacturing</td>\n",
       "      <td>Affluent Customer</td>\n",
       "      <td>N</td>\n",
       "      <td>Yes</td>\n",
       "      <td>5</td>\n",
       "      <td>207 Annamark Plaza</td>\n",
       "      <td>4814</td>\n",
       "      <td>QLD</td>\n",
       "      <td>Australia</td>\n",
       "      <td>1</td>\n",
       "      <td>4</td>\n",
       "      <td>1.703125</td>\n",
       "      <td>42.0</td>\n",
       "    </tr>\n",
       "    <tr>\n",
       "      <th>4</th>\n",
       "      <td>4005</td>\n",
       "      <td>Melinda</td>\n",
       "      <td>Hadlee</td>\n",
       "      <td>Female</td>\n",
       "      <td>34</td>\n",
       "      <td>1965-09-21</td>\n",
       "      <td>Financial Analyst</td>\n",
       "      <td>Financial Services</td>\n",
       "      <td>Affluent Customer</td>\n",
       "      <td>N</td>\n",
       "      <td>No</td>\n",
       "      <td>19</td>\n",
       "      <td>115 Montana Place</td>\n",
       "      <td>2093</td>\n",
       "      <td>NSW</td>\n",
       "      <td>Australia</td>\n",
       "      <td>9</td>\n",
       "      <td>4</td>\n",
       "      <td>1.703125</td>\n",
       "      <td>55.0</td>\n",
       "    </tr>\n",
       "  </tbody>\n",
       "</table>\n",
       "</div>"
      ],
      "text/plain": [
       "   customer_id first_name  last_name  gender  \\\n",
       "0         4001    Chickie    Brister    Male   \n",
       "1         4002      Morly     Genery    Male   \n",
       "2         4003    Ardelis  Forrester  Female   \n",
       "3         4004     Lucine      Stutt  Female   \n",
       "4         4005    Melinda     Hadlee  Female   \n",
       "\n",
       "   past_3_years_bike_related_purchases        DOB                   job_title  \\\n",
       "0                                   86 1957-07-12             General Manager   \n",
       "1                                   69 1970-03-22         Structural Engineer   \n",
       "2                                   10 1974-08-28      Senior Cost Accountant   \n",
       "3                                   64 1979-01-28  Account Representative III   \n",
       "4                                   34 1965-09-21           Financial Analyst   \n",
       "\n",
       "  job_industry_category     wealth_segment deceased_indicator owns_car  \\\n",
       "0         Manufacturing      Mass Customer                  N      Yes   \n",
       "1              Property      Mass Customer                  N       No   \n",
       "2    Financial Services  Affluent Customer                  N       No   \n",
       "3         Manufacturing  Affluent Customer                  N      Yes   \n",
       "4    Financial Services  Affluent Customer                  N       No   \n",
       "\n",
       "   tenure              address  postcode state    country  property_valuation  \\\n",
       "0      14     45 Shopko Center      4500   QLD  Australia                   6   \n",
       "1      16    14 Mccormick Park      2113   NSW  Australia                  11   \n",
       "2      10  5 Colorado Crossing      3505   VIC  Australia                   5   \n",
       "3       5   207 Annamark Plaza      4814   QLD  Australia                   1   \n",
       "4      19    115 Montana Place      2093   NSW  Australia                   9   \n",
       "\n",
       "   Rank     Value   age  \n",
       "0     1  1.718750  63.0  \n",
       "1     1  1.718750  51.0  \n",
       "2     1  1.718750  46.0  \n",
       "3     4  1.703125  42.0  \n",
       "4     4  1.703125  55.0  "
      ]
     },
     "execution_count": 846,
     "metadata": {},
     "output_type": "execute_result"
    }
   ],
   "source": [
    "new_cust.head()"
   ]
  },
  {
   "cell_type": "code",
   "execution_count": 847,
   "id": "17e7ddc1",
   "metadata": {},
   "outputs": [
    {
     "data": {
      "text/plain": [
       "customer_id                              0\n",
       "first_name                               0\n",
       "last_name                              125\n",
       "gender                                   0\n",
       "past_3_years_bike_related_purchases      0\n",
       "DOB                                     87\n",
       "job_title                              504\n",
       "job_industry_category                  655\n",
       "wealth_segment                           0\n",
       "deceased_indicator                       0\n",
       "owns_car                                 0\n",
       "tenure                                  87\n",
       "address                                  0\n",
       "postcode                                 0\n",
       "state                                    0\n",
       "country                                  0\n",
       "property_valuation                       0\n",
       "age                                     87\n",
       "dtype: int64"
      ]
     },
     "execution_count": 847,
     "metadata": {},
     "output_type": "execute_result"
    }
   ],
   "source": [
    "cust_demo.isnull().sum()"
   ]
  },
  {
   "cell_type": "code",
   "execution_count": 848,
   "id": "1b8bc599",
   "metadata": {},
   "outputs": [
    {
     "data": {
      "text/plain": [
       "Female         513\n",
       "Male           470\n",
       "Unspecified     17\n",
       "Name: gender, dtype: int64"
      ]
     },
     "execution_count": 848,
     "metadata": {},
     "output_type": "execute_result"
    }
   ],
   "source": [
    "cust_demo['age'].fillna(cust_demo['age'].mode()[0],inplace=True)\n",
    "new_cust['age'].fillna(new_cust['age'].mode()[0],inplace=True)\n",
    "new_cust['gender']=new_cust['gender'].replace('U','Unspecified')\n",
    "new_cust['gender'].value_counts()"
   ]
  },
  {
   "cell_type": "code",
   "execution_count": 849,
   "id": "2d8ae2df",
   "metadata": {},
   "outputs": [
    {
     "data": {
      "text/plain": [
       "customer_id                              0\n",
       "first_name                               0\n",
       "last_name                               29\n",
       "gender                                   0\n",
       "past_3_years_bike_related_purchases      0\n",
       "DOB                                     17\n",
       "job_title                              106\n",
       "job_industry_category                  165\n",
       "wealth_segment                           0\n",
       "deceased_indicator                       0\n",
       "owns_car                                 0\n",
       "tenure                                   0\n",
       "address                                  0\n",
       "postcode                                 0\n",
       "state                                    0\n",
       "country                                  0\n",
       "property_valuation                       0\n",
       "Rank                                     0\n",
       "Value                                    0\n",
       "age                                      0\n",
       "dtype: int64"
      ]
     },
     "execution_count": 849,
     "metadata": {},
     "output_type": "execute_result"
    }
   ],
   "source": [
    "new_cust.isnull().sum()"
   ]
  },
  {
   "cell_type": "markdown",
   "id": "555c4537",
   "metadata": {},
   "source": [
    "fill all categorical columns having null values with mode valus of respective column as they are small compared to whole"
   ]
  },
  {
   "cell_type": "code",
   "execution_count": 851,
   "id": "4df8d82b",
   "metadata": {},
   "outputs": [],
   "source": [
    "null_cols=['job_title','job_industry_category','tenure']\n",
    "for feature in null_cols:\n",
    "    cust_demo[feature].fillna(cust_demo[feature].mode()[0],inplace=True)\n",
    "nulls_in_new=['job_title','job_industry_category']\n",
    "for feature in nulls_in_new:\n",
    "    new_cust[feature].fillna(new_cust[feature].mode()[0],inplace=True)"
   ]
  },
  {
   "cell_type": "markdown",
   "id": "a759fdf9",
   "metadata": {},
   "source": [
    "# DATA EXPLORATION"
   ]
  },
  {
   "cell_type": "code",
   "execution_count": 852,
   "id": "4e47d6a1",
   "metadata": {},
   "outputs": [],
   "source": [
    "cols_to_drop =['first_name','last_name','DOB']\n",
    "cols_to_drop_in_new=['first_name','last_name','DOB']"
   ]
  },
  {
   "cell_type": "code",
   "execution_count": 853,
   "id": "a41ca38a",
   "metadata": {},
   "outputs": [],
   "source": [
    "custdemovis= cust_demo.copy()\n",
    "custdemovis= cust_demo.drop(cols_to_drop,axis=1)\n",
    "newcustvis=new_cust.drop(cols_to_drop,axis=1)"
   ]
  },
  {
   "cell_type": "code",
   "execution_count": 854,
   "id": "ca555d1d",
   "metadata": {},
   "outputs": [
    {
     "data": {
      "text/plain": [
       "(customer_id                            0\n",
       " gender                                 0\n",
       " past_3_years_bike_related_purchases    0\n",
       " job_title                              0\n",
       " job_industry_category                  0\n",
       " wealth_segment                         0\n",
       " deceased_indicator                     0\n",
       " owns_car                               0\n",
       " tenure                                 0\n",
       " address                                0\n",
       " postcode                               0\n",
       " state                                  0\n",
       " country                                0\n",
       " property_valuation                     0\n",
       " age                                    0\n",
       " dtype: int64,\n",
       " customer_id                            0\n",
       " gender                                 0\n",
       " past_3_years_bike_related_purchases    0\n",
       " job_title                              0\n",
       " job_industry_category                  0\n",
       " wealth_segment                         0\n",
       " deceased_indicator                     0\n",
       " owns_car                               0\n",
       " tenure                                 0\n",
       " address                                0\n",
       " postcode                               0\n",
       " state                                  0\n",
       " country                                0\n",
       " property_valuation                     0\n",
       " Rank                                   0\n",
       " Value                                  0\n",
       " age                                    0\n",
       " dtype: int64)"
      ]
     },
     "execution_count": 854,
     "metadata": {},
     "output_type": "execute_result"
    }
   ],
   "source": [
    "custdemovis.isnull().sum(),newcustvis.isnull().sum()"
   ]
  },
  {
   "cell_type": "code",
   "execution_count": 855,
   "id": "39785c6f",
   "metadata": {},
   "outputs": [
    {
     "name": "stderr",
     "output_type": "stream",
     "text": [
      "<ipython-input-855-942b578bec94>:3: SettingWithCopyWarning: \n",
      "A value is trying to be set on a copy of a slice from a DataFrame\n",
      "\n",
      "See the caveats in the documentation: https://pandas.pydata.org/pandas-docs/stable/user_guide/indexing.html#returning-a-view-versus-a-copy\n",
      "  custdemovis['age'][29]=70\n"
     ]
    }
   ],
   "source": [
    "custdemovis=custdemovis.sort_values(by='age',ascending=False)\n",
    "##remove that outlier ,person with age 178,maybe wrong age,so replace it with around 60 because tenure is more\n",
    "custdemovis['age'][29]=70"
   ]
  },
  {
   "cell_type": "code",
   "execution_count": 693,
   "id": "60bdf890",
   "metadata": {},
   "outputs": [
    {
     "data": {
      "text/html": [
       "<div>\n",
       "<style scoped>\n",
       "    .dataframe tbody tr th:only-of-type {\n",
       "        vertical-align: middle;\n",
       "    }\n",
       "\n",
       "    .dataframe tbody tr th {\n",
       "        vertical-align: top;\n",
       "    }\n",
       "\n",
       "    .dataframe thead th {\n",
       "        text-align: right;\n",
       "    }\n",
       "</style>\n",
       "<table border=\"1\" class=\"dataframe\">\n",
       "  <thead>\n",
       "    <tr style=\"text-align: right;\">\n",
       "      <th></th>\n",
       "      <th>customer_id</th>\n",
       "      <th>gender</th>\n",
       "      <th>past_3_years_bike_related_purchases</th>\n",
       "      <th>job_title</th>\n",
       "      <th>job_industry_category</th>\n",
       "      <th>wealth_segment</th>\n",
       "      <th>deceased_indicator</th>\n",
       "      <th>owns_car</th>\n",
       "      <th>tenure</th>\n",
       "      <th>address</th>\n",
       "      <th>postcode</th>\n",
       "      <th>state</th>\n",
       "      <th>country</th>\n",
       "      <th>property_valuation</th>\n",
       "      <th>age</th>\n",
       "    </tr>\n",
       "  </thead>\n",
       "  <tbody>\n",
       "    <tr>\n",
       "      <th>29</th>\n",
       "      <td>34</td>\n",
       "      <td>Unspecified</td>\n",
       "      <td>59</td>\n",
       "      <td>Legal Assistant</td>\n",
       "      <td>IT</td>\n",
       "      <td>Affluent Customer</td>\n",
       "      <td>N</td>\n",
       "      <td>No</td>\n",
       "      <td>20.0</td>\n",
       "      <td>833 Luster Way</td>\n",
       "      <td>4005</td>\n",
       "      <td>QLD</td>\n",
       "      <td>Australia</td>\n",
       "      <td>8</td>\n",
       "      <td>70.0</td>\n",
       "    </tr>\n",
       "    <tr>\n",
       "      <th>715</th>\n",
       "      <td>720</td>\n",
       "      <td>Male</td>\n",
       "      <td>67</td>\n",
       "      <td>Recruiting Manager</td>\n",
       "      <td>Retail</td>\n",
       "      <td>Affluent Customer</td>\n",
       "      <td>N</td>\n",
       "      <td>No</td>\n",
       "      <td>6.0</td>\n",
       "      <td>78 Glacier Hill Drive</td>\n",
       "      <td>2026</td>\n",
       "      <td>NSW</td>\n",
       "      <td>Australia</td>\n",
       "      <td>10</td>\n",
       "      <td>90.0</td>\n",
       "    </tr>\n",
       "    <tr>\n",
       "      <th>1087</th>\n",
       "      <td>1092</td>\n",
       "      <td>Female</td>\n",
       "      <td>56</td>\n",
       "      <td>VP Quality Control</td>\n",
       "      <td>Retail</td>\n",
       "      <td>Mass Customer</td>\n",
       "      <td>N</td>\n",
       "      <td>No</td>\n",
       "      <td>5.0</td>\n",
       "      <td>5515 Artisan Center</td>\n",
       "      <td>3337</td>\n",
       "      <td>VIC</td>\n",
       "      <td>Australia</td>\n",
       "      <td>3</td>\n",
       "      <td>86.0</td>\n",
       "    </tr>\n",
       "    <tr>\n",
       "      <th>3405</th>\n",
       "      <td>3410</td>\n",
       "      <td>Female</td>\n",
       "      <td>93</td>\n",
       "      <td>Business Systems Development Analyst</td>\n",
       "      <td>Property</td>\n",
       "      <td>Mass Customer</td>\n",
       "      <td>N</td>\n",
       "      <td>No</td>\n",
       "      <td>16.0</td>\n",
       "      <td>1351 Lunder Road</td>\n",
       "      <td>2049</td>\n",
       "      <td>NSW</td>\n",
       "      <td>Australia</td>\n",
       "      <td>10</td>\n",
       "      <td>81.0</td>\n",
       "    </tr>\n",
       "    <tr>\n",
       "      <th>2408</th>\n",
       "      <td>2413</td>\n",
       "      <td>Male</td>\n",
       "      <td>27</td>\n",
       "      <td>Environmental Specialist</td>\n",
       "      <td>Manufacturing</td>\n",
       "      <td>High Net Worth</td>\n",
       "      <td>N</td>\n",
       "      <td>Yes</td>\n",
       "      <td>17.0</td>\n",
       "      <td>423 Debra Terrace</td>\n",
       "      <td>3082</td>\n",
       "      <td>VIC</td>\n",
       "      <td>Australia</td>\n",
       "      <td>8</td>\n",
       "      <td>78.0</td>\n",
       "    </tr>\n",
       "  </tbody>\n",
       "</table>\n",
       "</div>"
      ],
      "text/plain": [
       "      customer_id       gender  past_3_years_bike_related_purchases  \\\n",
       "29             34  Unspecified                                   59   \n",
       "715           720         Male                                   67   \n",
       "1087         1092       Female                                   56   \n",
       "3405         3410       Female                                   93   \n",
       "2408         2413         Male                                   27   \n",
       "\n",
       "                                 job_title job_industry_category  \\\n",
       "29                         Legal Assistant                    IT   \n",
       "715                     Recruiting Manager                Retail   \n",
       "1087                    VP Quality Control                Retail   \n",
       "3405  Business Systems Development Analyst              Property   \n",
       "2408              Environmental Specialist         Manufacturing   \n",
       "\n",
       "         wealth_segment deceased_indicator owns_car  tenure  \\\n",
       "29    Affluent Customer                  N       No    20.0   \n",
       "715   Affluent Customer                  N       No     6.0   \n",
       "1087      Mass Customer                  N       No     5.0   \n",
       "3405      Mass Customer                  N       No    16.0   \n",
       "2408     High Net Worth                  N      Yes    17.0   \n",
       "\n",
       "                    address  postcode state    country  property_valuation  \\\n",
       "29           833 Luster Way      4005   QLD  Australia                   8   \n",
       "715   78 Glacier Hill Drive      2026   NSW  Australia                  10   \n",
       "1087    5515 Artisan Center      3337   VIC  Australia                   3   \n",
       "3405       1351 Lunder Road      2049   NSW  Australia                  10   \n",
       "2408      423 Debra Terrace      3082   VIC  Australia                   8   \n",
       "\n",
       "       age  \n",
       "29    70.0  \n",
       "715   90.0  \n",
       "1087  86.0  \n",
       "3405  81.0  \n",
       "2408  78.0  "
      ]
     },
     "execution_count": 693,
     "metadata": {},
     "output_type": "execute_result"
    }
   ],
   "source": [
    "custdemovis.head()"
   ]
  },
  {
   "cell_type": "code",
   "execution_count": 856,
   "id": "99b6b5a4",
   "metadata": {},
   "outputs": [],
   "source": [
    "newcustvis=newcustvis.sort_values(by='age',ascending=False)\n"
   ]
  },
  {
   "cell_type": "code",
   "execution_count": 857,
   "id": "a9e5447d",
   "metadata": {
    "scrolled": true
   },
   "outputs": [
    {
     "data": {
      "text/plain": [
       "43.0    323\n",
       "44.0    174\n",
       "42.0    161\n",
       "47.0    141\n",
       "46.0    134\n",
       "45.0    123\n",
       "40.0    122\n",
       "41.0    105\n",
       "35.0    105\n",
       "34.0     93\n",
       "26.0     91\n",
       "31.0     84\n",
       "56.0     80\n",
       "49.0     80\n",
       "23.0     79\n",
       "61.0     78\n",
       "59.0     78\n",
       "33.0     77\n",
       "62.0     76\n",
       "48.0     75\n",
       "25.0     74\n",
       "52.0     74\n",
       "22.0     73\n",
       "51.0     73\n",
       "55.0     72\n",
       "28.0     70\n",
       "54.0     70\n",
       "36.0     69\n",
       "57.0     68\n",
       "53.0     67\n",
       "64.0     65\n",
       "27.0     63\n",
       "66.0     62\n",
       "63.0     62\n",
       "24.0     62\n",
       "32.0     61\n",
       "65.0     60\n",
       "50.0     59\n",
       "39.0     59\n",
       "58.0     58\n",
       "21.0     58\n",
       "29.0     57\n",
       "60.0     55\n",
       "67.0     45\n",
       "38.0     40\n",
       "30.0     40\n",
       "20.0     39\n",
       "37.0     34\n",
       "19.0     22\n",
       "77.0      2\n",
       "85.0      1\n",
       "70.0      1\n",
       "80.0      1\n",
       "89.0      1\n",
       "Name: age, dtype: int64"
      ]
     },
     "execution_count": 857,
     "metadata": {},
     "output_type": "execute_result"
    }
   ],
   "source": [
    "custdemovis.age.value_counts()"
   ]
  },
  {
   "cell_type": "code",
   "execution_count": 858,
   "id": "a5cada22",
   "metadata": {
    "scrolled": true
   },
   "outputs": [
    {
     "data": {
      "text/plain": [
       "<AxesSubplot:xlabel='age', ylabel='count'>"
      ]
     },
     "execution_count": 858,
     "metadata": {},
     "output_type": "execute_result"
    },
    {
     "data": {
      "image/png": "[encoded data removed]",
      "text/plain": [
       "<Figure size 1440x1440 with 1 Axes>"
      ]
     },
     "metadata": {
      "needs_background": "light"
     },
     "output_type": "display_data"
    }
   ],
   "source": [
    "sns.set_context(\"paper\", font_scale=1)\n",
    "fig_dims = (20,20)\n",
    "fig, ax = plt.subplots(figsize=fig_dims)\n",
    "sns.countplot(x = \"age\",ax=ax, data=custdemovis)"
   ]
  },
  {
   "cell_type": "code",
   "execution_count": 859,
   "id": "915bd255",
   "metadata": {
    "scrolled": true
   },
   "outputs": [
    {
     "data": {
      "text/plain": [
       "<AxesSubplot:xlabel='age', ylabel='count'>"
      ]
     },
     "execution_count": 859,
     "metadata": {},
     "output_type": "execute_result"
    },
    {
     "data": {
      "image/png": "[encoded data removed]",
      "text/plain": [
       "<Figure size 2160x1440 with 1 Axes>"
      ]
     },
     "metadata": {
      "needs_background": "light"
     },
     "output_type": "display_data"
    }
   ],
   "source": [
    "fig_dims = (30,20)\n",
    "fig, ax = plt.subplots(figsize=fig_dims)\n",
    "sns.countplot(x = \"age\",ax=ax, data=newcustvis)"
   ]
  },
  {
   "cell_type": "code",
   "execution_count": 860,
   "id": "d74ca598",
   "metadata": {},
   "outputs": [
    {
     "name": "stdout",
     "output_type": "stream",
     "text": [
      "<class 'pandas.core.frame.DataFrame'>\n",
      "Int64Index: 3996 entries, 29 to 2291\n",
      "Data columns (total 15 columns):\n",
      " #   Column                               Non-Null Count  Dtype  \n",
      "---  ------                               --------------  -----  \n",
      " 0   customer_id                          3996 non-null   int64  \n",
      " 1   gender                               3996 non-null   object \n",
      " 2   past_3_years_bike_related_purchases  3996 non-null   int64  \n",
      " 3   job_title                            3996 non-null   object \n",
      " 4   job_industry_category                3996 non-null   object \n",
      " 5   wealth_segment                       3996 non-null   object \n",
      " 6   deceased_indicator                   3996 non-null   object \n",
      " 7   owns_car                             3996 non-null   object \n",
      " 8   tenure                               3996 non-null   float64\n",
      " 9   address                              3996 non-null   object \n",
      " 10  postcode                             3996 non-null   int64  \n",
      " 11  state                                3996 non-null   object \n",
      " 12  country                              3996 non-null   object \n",
      " 13  property_valuation                   3996 non-null   int64  \n",
      " 14  age                                  3996 non-null   float64\n",
      "dtypes: float64(2), int64(4), object(9)\n",
      "memory usage: 628.5+ KB\n"
     ]
    }
   ],
   "source": [
    "custdemovis.info()"
   ]
  },
  {
   "cell_type": "code",
   "execution_count": 861,
   "id": "2dc4b5a5",
   "metadata": {},
   "outputs": [],
   "source": [
    "## grouping ages with ranges mentioned below\n",
    "bins= [0,30,40,50,68,100]\n",
    "labels = ['below-30','30-40','40-50','50-68','above_68']\n",
    "combine =[custdemovis,newcustvis]\n",
    "for dataset in combine:\n",
    "    dataset['age'] =pd.to_numeric(dataset['age'])\n",
    "    dataset['age'] = pd.cut(dataset['age'], bins=bins, labels=labels, right=False)"
   ]
  },
  {
   "cell_type": "code",
   "execution_count": 862,
   "id": "b2559290",
   "metadata": {},
   "outputs": [
    {
     "data": {
      "text/html": [
       "<div>\n",
       "<style scoped>\n",
       "    .dataframe tbody tr th:only-of-type {\n",
       "        vertical-align: middle;\n",
       "    }\n",
       "\n",
       "    .dataframe tbody tr th {\n",
       "        vertical-align: top;\n",
       "    }\n",
       "\n",
       "    .dataframe thead th {\n",
       "        text-align: right;\n",
       "    }\n",
       "</style>\n",
       "<table border=\"1\" class=\"dataframe\">\n",
       "  <thead>\n",
       "    <tr style=\"text-align: right;\">\n",
       "      <th></th>\n",
       "      <th>customer_id</th>\n",
       "      <th>gender</th>\n",
       "      <th>past_3_years_bike_related_purchases</th>\n",
       "      <th>job_title</th>\n",
       "      <th>job_industry_category</th>\n",
       "      <th>wealth_segment</th>\n",
       "      <th>deceased_indicator</th>\n",
       "      <th>owns_car</th>\n",
       "      <th>tenure</th>\n",
       "      <th>address</th>\n",
       "      <th>postcode</th>\n",
       "      <th>state</th>\n",
       "      <th>country</th>\n",
       "      <th>property_valuation</th>\n",
       "      <th>age</th>\n",
       "    </tr>\n",
       "  </thead>\n",
       "  <tbody>\n",
       "    <tr>\n",
       "      <th>29</th>\n",
       "      <td>34</td>\n",
       "      <td>Unspecified</td>\n",
       "      <td>59</td>\n",
       "      <td>Legal Assistant</td>\n",
       "      <td>IT</td>\n",
       "      <td>Affluent Customer</td>\n",
       "      <td>N</td>\n",
       "      <td>No</td>\n",
       "      <td>20.0</td>\n",
       "      <td>833 Luster Way</td>\n",
       "      <td>4005</td>\n",
       "      <td>QLD</td>\n",
       "      <td>Australia</td>\n",
       "      <td>8</td>\n",
       "      <td>above_68</td>\n",
       "    </tr>\n",
       "    <tr>\n",
       "      <th>715</th>\n",
       "      <td>720</td>\n",
       "      <td>Male</td>\n",
       "      <td>67</td>\n",
       "      <td>Recruiting Manager</td>\n",
       "      <td>Retail</td>\n",
       "      <td>Affluent Customer</td>\n",
       "      <td>N</td>\n",
       "      <td>No</td>\n",
       "      <td>6.0</td>\n",
       "      <td>78 Glacier Hill Drive</td>\n",
       "      <td>2026</td>\n",
       "      <td>NSW</td>\n",
       "      <td>Australia</td>\n",
       "      <td>10</td>\n",
       "      <td>above_68</td>\n",
       "    </tr>\n",
       "    <tr>\n",
       "      <th>1087</th>\n",
       "      <td>1092</td>\n",
       "      <td>Female</td>\n",
       "      <td>56</td>\n",
       "      <td>VP Quality Control</td>\n",
       "      <td>Retail</td>\n",
       "      <td>Mass Customer</td>\n",
       "      <td>N</td>\n",
       "      <td>No</td>\n",
       "      <td>5.0</td>\n",
       "      <td>5515 Artisan Center</td>\n",
       "      <td>3337</td>\n",
       "      <td>VIC</td>\n",
       "      <td>Australia</td>\n",
       "      <td>3</td>\n",
       "      <td>above_68</td>\n",
       "    </tr>\n",
       "    <tr>\n",
       "      <th>3405</th>\n",
       "      <td>3410</td>\n",
       "      <td>Female</td>\n",
       "      <td>93</td>\n",
       "      <td>Business Systems Development Analyst</td>\n",
       "      <td>Property</td>\n",
       "      <td>Mass Customer</td>\n",
       "      <td>N</td>\n",
       "      <td>No</td>\n",
       "      <td>16.0</td>\n",
       "      <td>1351 Lunder Road</td>\n",
       "      <td>2049</td>\n",
       "      <td>NSW</td>\n",
       "      <td>Australia</td>\n",
       "      <td>10</td>\n",
       "      <td>above_68</td>\n",
       "    </tr>\n",
       "    <tr>\n",
       "      <th>653</th>\n",
       "      <td>658</td>\n",
       "      <td>Male</td>\n",
       "      <td>38</td>\n",
       "      <td>Tax Accountant</td>\n",
       "      <td>Manufacturing</td>\n",
       "      <td>Affluent Customer</td>\n",
       "      <td>N</td>\n",
       "      <td>Yes</td>\n",
       "      <td>8.0</td>\n",
       "      <td>355 Thackeray Circle</td>\n",
       "      <td>3025</td>\n",
       "      <td>Victoria</td>\n",
       "      <td>Australia</td>\n",
       "      <td>9</td>\n",
       "      <td>above_68</td>\n",
       "    </tr>\n",
       "  </tbody>\n",
       "</table>\n",
       "</div>"
      ],
      "text/plain": [
       "      customer_id       gender  past_3_years_bike_related_purchases  \\\n",
       "29             34  Unspecified                                   59   \n",
       "715           720         Male                                   67   \n",
       "1087         1092       Female                                   56   \n",
       "3405         3410       Female                                   93   \n",
       "653           658         Male                                   38   \n",
       "\n",
       "                                 job_title job_industry_category  \\\n",
       "29                         Legal Assistant                    IT   \n",
       "715                     Recruiting Manager                Retail   \n",
       "1087                    VP Quality Control                Retail   \n",
       "3405  Business Systems Development Analyst              Property   \n",
       "653                         Tax Accountant         Manufacturing   \n",
       "\n",
       "         wealth_segment deceased_indicator owns_car  tenure  \\\n",
       "29    Affluent Customer                  N       No    20.0   \n",
       "715   Affluent Customer                  N       No     6.0   \n",
       "1087      Mass Customer                  N       No     5.0   \n",
       "3405      Mass Customer                  N       No    16.0   \n",
       "653   Affluent Customer                  N      Yes     8.0   \n",
       "\n",
       "                    address  postcode     state    country  \\\n",
       "29           833 Luster Way      4005       QLD  Australia   \n",
       "715   78 Glacier Hill Drive      2026       NSW  Australia   \n",
       "1087    5515 Artisan Center      3337       VIC  Australia   \n",
       "3405       1351 Lunder Road      2049       NSW  Australia   \n",
       "653    355 Thackeray Circle      3025  Victoria  Australia   \n",
       "\n",
       "      property_valuation       age  \n",
       "29                     8  above_68  \n",
       "715                   10  above_68  \n",
       "1087                   3  above_68  \n",
       "3405                  10  above_68  \n",
       "653                    9  above_68  "
      ]
     },
     "execution_count": 862,
     "metadata": {},
     "output_type": "execute_result"
    }
   ],
   "source": [
    "custdemovis.head()"
   ]
  },
  {
   "cell_type": "code",
   "execution_count": 863,
   "id": "03d74d05",
   "metadata": {},
   "outputs": [
    {
     "data": {
      "text/plain": [
       "(195, 184)"
      ]
     },
     "execution_count": 863,
     "metadata": {},
     "output_type": "execute_result"
    }
   ],
   "source": [
    "custdemovis['job_title'].nunique(),newcustvis['job_title'].nunique()\n",
    "#all job holders are really different people"
   ]
  },
  {
   "cell_type": "code",
   "execution_count": 864,
   "id": "0fc7a293",
   "metadata": {},
   "outputs": [
    {
     "data": {
      "text/plain": [
       "(9, 9)"
      ]
     },
     "execution_count": 864,
     "metadata": {},
     "output_type": "execute_result"
    }
   ],
   "source": [
    "custdemovis['job_industry_category'].nunique(),newcustvis['job_industry_category'].nunique()"
   ]
  },
  {
   "cell_type": "markdown",
   "id": "4071e9d0",
   "metadata": {},
   "source": [
    "for dataset in combine:\n",
    "    dataset.age = dataset.age.map({0:'below 25', 1:'25-35', 2:'35-50',3:'50-60',4:'ab0ve 60'})"
   ]
  },
  {
   "cell_type": "code",
   "execution_count": 865,
   "id": "cece77b4",
   "metadata": {},
   "outputs": [
    {
     "data": {
      "text/plain": [
       "50-68       306\n",
       "40-50       250\n",
       "above_68    172\n",
       "below-30    170\n",
       "30-40       102\n",
       "Name: age, dtype: int64"
      ]
     },
     "execution_count": 865,
     "metadata": {},
     "output_type": "execute_result"
    }
   ],
   "source": [
    "newcustvis.age.value_counts()"
   ]
  },
  {
   "cell_type": "code",
   "execution_count": 866,
   "id": "aa4c9c67",
   "metadata": {},
   "outputs": [
    {
     "data": {
      "text/plain": [
       "40-50       1438\n",
       "50-68       1202\n",
       "below-30     688\n",
       "30-40        662\n",
       "above_68       6\n",
       "Name: age, dtype: int64"
      ]
     },
     "execution_count": 866,
     "metadata": {},
     "output_type": "execute_result"
    }
   ],
   "source": [
    "custdemovis.age.value_counts()"
   ]
  },
  {
   "cell_type": "code",
   "execution_count": 867,
   "id": "ceff6989",
   "metadata": {},
   "outputs": [
    {
     "data": {
      "text/plain": [
       "(Mass Customer        1997\n",
       " High Net Worth       1020\n",
       " Affluent Customer     979\n",
       " Name: wealth_segment, dtype: int64,\n",
       " Mass Customer        508\n",
       " High Net Worth       251\n",
       " Affluent Customer    241\n",
       " Name: wealth_segment, dtype: int64)"
      ]
     },
     "execution_count": 867,
     "metadata": {},
     "output_type": "execute_result"
    }
   ],
   "source": [
    "custdemovis.wealth_segment.value_counts(),newcustvis.wealth_segment.value_counts()"
   ]
  },
  {
   "cell_type": "code",
   "execution_count": 569,
   "id": "5e156a36",
   "metadata": {
    "scrolled": true
   },
   "outputs": [
    {
     "data": {
      "text/html": [
       "<div>\n",
       "<style scoped>\n",
       "    .dataframe tbody tr th:only-of-type {\n",
       "        vertical-align: middle;\n",
       "    }\n",
       "\n",
       "    .dataframe tbody tr th {\n",
       "        vertical-align: top;\n",
       "    }\n",
       "\n",
       "    .dataframe thead th {\n",
       "        text-align: right;\n",
       "    }\n",
       "</style>\n",
       "<table border=\"1\" class=\"dataframe\">\n",
       "  <thead>\n",
       "    <tr style=\"text-align: right;\">\n",
       "      <th></th>\n",
       "      <th>customer_id</th>\n",
       "      <th>gender</th>\n",
       "      <th>past_3_years_bike_related_purchases</th>\n",
       "      <th>job_title</th>\n",
       "      <th>job_industry_category</th>\n",
       "      <th>wealth_segment</th>\n",
       "      <th>deceased_indicator</th>\n",
       "      <th>owns_car</th>\n",
       "      <th>tenure</th>\n",
       "      <th>address</th>\n",
       "      <th>postcode</th>\n",
       "      <th>state</th>\n",
       "      <th>country</th>\n",
       "      <th>property_valuation</th>\n",
       "      <th>Rank</th>\n",
       "      <th>Value</th>\n",
       "      <th>age</th>\n",
       "    </tr>\n",
       "  </thead>\n",
       "  <tbody>\n",
       "    <tr>\n",
       "      <th>406</th>\n",
       "      <td>4407</td>\n",
       "      <td>Male</td>\n",
       "      <td>21</td>\n",
       "      <td>Graphic Designer</td>\n",
       "      <td>Health</td>\n",
       "      <td>Mass Customer</td>\n",
       "      <td>N</td>\n",
       "      <td>No</td>\n",
       "      <td>19</td>\n",
       "      <td>082 Welch Lane</td>\n",
       "      <td>2089</td>\n",
       "      <td>NSW</td>\n",
       "      <td>Australia</td>\n",
       "      <td>11</td>\n",
       "      <td>405</td>\n",
       "      <td>0.930000</td>\n",
       "      <td>above_68</td>\n",
       "    </tr>\n",
       "    <tr>\n",
       "      <th>265</th>\n",
       "      <td>4266</td>\n",
       "      <td>Female</td>\n",
       "      <td>56</td>\n",
       "      <td>Associate Professor</td>\n",
       "      <td>Financial Services</td>\n",
       "      <td>Mass Customer</td>\n",
       "      <td>N</td>\n",
       "      <td>No</td>\n",
       "      <td>10</td>\n",
       "      <td>343 Lakewood Center</td>\n",
       "      <td>2089</td>\n",
       "      <td>NSW</td>\n",
       "      <td>Australia</td>\n",
       "      <td>12</td>\n",
       "      <td>259</td>\n",
       "      <td>1.062500</td>\n",
       "      <td>above_68</td>\n",
       "    </tr>\n",
       "    <tr>\n",
       "      <th>585</th>\n",
       "      <td>4586</td>\n",
       "      <td>Female</td>\n",
       "      <td>27</td>\n",
       "      <td>Web Developer II</td>\n",
       "      <td>Manufacturing</td>\n",
       "      <td>Affluent Customer</td>\n",
       "      <td>N</td>\n",
       "      <td>No</td>\n",
       "      <td>15</td>\n",
       "      <td>95796 Mcbride Drive</td>\n",
       "      <td>3677</td>\n",
       "      <td>VIC</td>\n",
       "      <td>Australia</td>\n",
       "      <td>3</td>\n",
       "      <td>583</td>\n",
       "      <td>0.787500</td>\n",
       "      <td>above_68</td>\n",
       "    </tr>\n",
       "    <tr>\n",
       "      <th>191</th>\n",
       "      <td>4192</td>\n",
       "      <td>Male</td>\n",
       "      <td>55</td>\n",
       "      <td>Clinical Specialist</td>\n",
       "      <td>Health</td>\n",
       "      <td>Mass Customer</td>\n",
       "      <td>N</td>\n",
       "      <td>Yes</td>\n",
       "      <td>7</td>\n",
       "      <td>6966 Delladonna Street</td>\n",
       "      <td>2250</td>\n",
       "      <td>NSW</td>\n",
       "      <td>Australia</td>\n",
       "      <td>8</td>\n",
       "      <td>191</td>\n",
       "      <td>1.150000</td>\n",
       "      <td>above_68</td>\n",
       "    </tr>\n",
       "    <tr>\n",
       "      <th>414</th>\n",
       "      <td>4415</td>\n",
       "      <td>Male</td>\n",
       "      <td>37</td>\n",
       "      <td>Associate Professor</td>\n",
       "      <td>Manufacturing</td>\n",
       "      <td>Mass Customer</td>\n",
       "      <td>N</td>\n",
       "      <td>No</td>\n",
       "      <td>9</td>\n",
       "      <td>79 Armistice Junction</td>\n",
       "      <td>2765</td>\n",
       "      <td>NSW</td>\n",
       "      <td>Australia</td>\n",
       "      <td>9</td>\n",
       "      <td>415</td>\n",
       "      <td>0.921875</td>\n",
       "      <td>above_68</td>\n",
       "    </tr>\n",
       "  </tbody>\n",
       "</table>\n",
       "</div>"
      ],
      "text/plain": [
       "     customer_id  gender  past_3_years_bike_related_purchases  \\\n",
       "406         4407    Male                                   21   \n",
       "265         4266  Female                                   56   \n",
       "585         4586  Female                                   27   \n",
       "191         4192    Male                                   55   \n",
       "414         4415    Male                                   37   \n",
       "\n",
       "               job_title job_industry_category     wealth_segment  \\\n",
       "406     Graphic Designer                Health      Mass Customer   \n",
       "265  Associate Professor    Financial Services      Mass Customer   \n",
       "585     Web Developer II         Manufacturing  Affluent Customer   \n",
       "191  Clinical Specialist                Health      Mass Customer   \n",
       "414  Associate Professor         Manufacturing      Mass Customer   \n",
       "\n",
       "    deceased_indicator owns_car  tenure                 address  postcode  \\\n",
       "406                  N       No      19          082 Welch Lane      2089   \n",
       "265                  N       No      10     343 Lakewood Center      2089   \n",
       "585                  N       No      15     95796 Mcbride Drive      3677   \n",
       "191                  N      Yes       7  6966 Delladonna Street      2250   \n",
       "414                  N       No       9   79 Armistice Junction      2765   \n",
       "\n",
       "    state    country  property_valuation  Rank     Value       age  \n",
       "406   NSW  Australia                  11   405  0.930000  above_68  \n",
       "265   NSW  Australia                  12   259  1.062500  above_68  \n",
       "585   VIC  Australia                   3   583  0.787500  above_68  \n",
       "191   NSW  Australia                   8   191  1.150000  above_68  \n",
       "414   NSW  Australia                   9   415  0.921875  above_68  "
      ]
     },
     "execution_count": 569,
     "metadata": {},
     "output_type": "execute_result"
    }
   ],
   "source": [
    "newcustvis.head()"
   ]
  },
  {
   "cell_type": "code",
   "execution_count": 908,
   "id": "bfef8e4a",
   "metadata": {},
   "outputs": [
    {
     "data": {
      "text/html": [
       "<div>\n",
       "<style scoped>\n",
       "    .dataframe tbody tr th:only-of-type {\n",
       "        vertical-align: middle;\n",
       "    }\n",
       "\n",
       "    .dataframe tbody tr th {\n",
       "        vertical-align: top;\n",
       "    }\n",
       "\n",
       "    .dataframe thead th {\n",
       "        text-align: right;\n",
       "    }\n",
       "</style>\n",
       "<table border=\"1\" class=\"dataframe\">\n",
       "  <thead>\n",
       "    <tr style=\"text-align: right;\">\n",
       "      <th></th>\n",
       "      <th>customer_id</th>\n",
       "      <th>gender</th>\n",
       "      <th>past_3_years_bike_related_purchases</th>\n",
       "      <th>job_title</th>\n",
       "      <th>job_industry_category</th>\n",
       "      <th>wealth_segment</th>\n",
       "      <th>deceased_indicator</th>\n",
       "      <th>owns_car</th>\n",
       "      <th>tenure</th>\n",
       "      <th>address</th>\n",
       "      <th>postcode</th>\n",
       "      <th>state</th>\n",
       "      <th>country</th>\n",
       "      <th>property_valuation</th>\n",
       "      <th>age</th>\n",
       "    </tr>\n",
       "  </thead>\n",
       "  <tbody>\n",
       "    <tr>\n",
       "      <th>29</th>\n",
       "      <td>34</td>\n",
       "      <td>Unspecified</td>\n",
       "      <td>59</td>\n",
       "      <td>Legal Assistant</td>\n",
       "      <td>IT</td>\n",
       "      <td>Affluent Customer</td>\n",
       "      <td>N</td>\n",
       "      <td>No</td>\n",
       "      <td>20.0</td>\n",
       "      <td>833 Luster Way</td>\n",
       "      <td>4005</td>\n",
       "      <td>QLD</td>\n",
       "      <td>Australia</td>\n",
       "      <td>8</td>\n",
       "      <td>above_68</td>\n",
       "    </tr>\n",
       "    <tr>\n",
       "      <th>715</th>\n",
       "      <td>720</td>\n",
       "      <td>Male</td>\n",
       "      <td>67</td>\n",
       "      <td>Recruiting Manager</td>\n",
       "      <td>Retail</td>\n",
       "      <td>Affluent Customer</td>\n",
       "      <td>N</td>\n",
       "      <td>No</td>\n",
       "      <td>6.0</td>\n",
       "      <td>78 Glacier Hill Drive</td>\n",
       "      <td>2026</td>\n",
       "      <td>NSW</td>\n",
       "      <td>Australia</td>\n",
       "      <td>10</td>\n",
       "      <td>above_68</td>\n",
       "    </tr>\n",
       "    <tr>\n",
       "      <th>1087</th>\n",
       "      <td>1092</td>\n",
       "      <td>Female</td>\n",
       "      <td>56</td>\n",
       "      <td>VP Quality Control</td>\n",
       "      <td>Retail</td>\n",
       "      <td>Mass Customer</td>\n",
       "      <td>N</td>\n",
       "      <td>No</td>\n",
       "      <td>5.0</td>\n",
       "      <td>5515 Artisan Center</td>\n",
       "      <td>3337</td>\n",
       "      <td>VIC</td>\n",
       "      <td>Australia</td>\n",
       "      <td>3</td>\n",
       "      <td>above_68</td>\n",
       "    </tr>\n",
       "    <tr>\n",
       "      <th>3405</th>\n",
       "      <td>3410</td>\n",
       "      <td>Female</td>\n",
       "      <td>93</td>\n",
       "      <td>Business Systems Development Analyst</td>\n",
       "      <td>Property</td>\n",
       "      <td>Mass Customer</td>\n",
       "      <td>N</td>\n",
       "      <td>No</td>\n",
       "      <td>16.0</td>\n",
       "      <td>1351 Lunder Road</td>\n",
       "      <td>2049</td>\n",
       "      <td>NSW</td>\n",
       "      <td>Australia</td>\n",
       "      <td>10</td>\n",
       "      <td>above_68</td>\n",
       "    </tr>\n",
       "    <tr>\n",
       "      <th>653</th>\n",
       "      <td>658</td>\n",
       "      <td>Male</td>\n",
       "      <td>38</td>\n",
       "      <td>Tax Accountant</td>\n",
       "      <td>Manufacturing</td>\n",
       "      <td>Affluent Customer</td>\n",
       "      <td>N</td>\n",
       "      <td>Yes</td>\n",
       "      <td>8.0</td>\n",
       "      <td>355 Thackeray Circle</td>\n",
       "      <td>3025</td>\n",
       "      <td>Victoria</td>\n",
       "      <td>Australia</td>\n",
       "      <td>9</td>\n",
       "      <td>above_68</td>\n",
       "    </tr>\n",
       "  </tbody>\n",
       "</table>\n",
       "</div>"
      ],
      "text/plain": [
       "      customer_id       gender  past_3_years_bike_related_purchases  \\\n",
       "29             34  Unspecified                                   59   \n",
       "715           720         Male                                   67   \n",
       "1087         1092       Female                                   56   \n",
       "3405         3410       Female                                   93   \n",
       "653           658         Male                                   38   \n",
       "\n",
       "                                 job_title job_industry_category  \\\n",
       "29                         Legal Assistant                    IT   \n",
       "715                     Recruiting Manager                Retail   \n",
       "1087                    VP Quality Control                Retail   \n",
       "3405  Business Systems Development Analyst              Property   \n",
       "653                         Tax Accountant         Manufacturing   \n",
       "\n",
       "         wealth_segment deceased_indicator owns_car  tenure  \\\n",
       "29    Affluent Customer                  N       No    20.0   \n",
       "715   Affluent Customer                  N       No     6.0   \n",
       "1087      Mass Customer                  N       No     5.0   \n",
       "3405      Mass Customer                  N       No    16.0   \n",
       "653   Affluent Customer                  N      Yes     8.0   \n",
       "\n",
       "                    address  postcode     state    country  \\\n",
       "29           833 Luster Way      4005       QLD  Australia   \n",
       "715   78 Glacier Hill Drive      2026       NSW  Australia   \n",
       "1087    5515 Artisan Center      3337       VIC  Australia   \n",
       "3405       1351 Lunder Road      2049       NSW  Australia   \n",
       "653    355 Thackeray Circle      3025  Victoria  Australia   \n",
       "\n",
       "      property_valuation       age  \n",
       "29                     8  above_68  \n",
       "715                   10  above_68  \n",
       "1087                   3  above_68  \n",
       "3405                  10  above_68  \n",
       "653                    9  above_68  "
      ]
     },
     "execution_count": 908,
     "metadata": {},
     "output_type": "execute_result"
    }
   ],
   "source": [
    "custdemovis.head()"
   ]
  },
  {
   "cell_type": "markdown",
   "id": "4d486dc5",
   "metadata": {},
   "source": [
    "### we got cleaned data\n",
    "- now we have to compare data with old and new customers and note the observations"
   ]
  },
  {
   "cell_type": "code",
   "execution_count": 915,
   "id": "ef93291c",
   "metadata": {},
   "outputs": [
    {
     "data": {
      "text/plain": [
       "48"
      ]
     },
     "execution_count": 915,
     "metadata": {},
     "output_type": "execute_result"
    }
   ],
   "source": [
    "old= sum(custdemovis['past_3_years_bike_related_purchases'])//custdemovis.shape[0]\n",
    "old"
   ]
  },
  {
   "cell_type": "code",
   "execution_count": 916,
   "id": "13299ebb",
   "metadata": {},
   "outputs": [
    {
     "data": {
      "text/plain": [
       "49"
      ]
     },
     "execution_count": 916,
     "metadata": {},
     "output_type": "execute_result"
    }
   ],
   "source": [
    "new=sum(newcustvis['past_3_years_bike_related_purchases'])//newcustvis.shape[0]\n",
    "new"
   ]
  },
  {
   "cell_type": "code",
   "execution_count": 926,
   "id": "68f3ac43",
   "metadata": {},
   "outputs": [
    {
     "data": {
      "text/html": [
       "<div>\n",
       "<style scoped>\n",
       "    .dataframe tbody tr th:only-of-type {\n",
       "        vertical-align: middle;\n",
       "    }\n",
       "\n",
       "    .dataframe tbody tr th {\n",
       "        vertical-align: top;\n",
       "    }\n",
       "\n",
       "    .dataframe thead th {\n",
       "        text-align: right;\n",
       "    }\n",
       "</style>\n",
       "<table border=\"1\" class=\"dataframe\">\n",
       "  <thead>\n",
       "    <tr style=\"text-align: right;\">\n",
       "      <th></th>\n",
       "      <th>type</th>\n",
       "      <th>products</th>\n",
       "    </tr>\n",
       "  </thead>\n",
       "  <tbody>\n",
       "    <tr>\n",
       "      <th>0</th>\n",
       "      <td>custdemo</td>\n",
       "      <td>48</td>\n",
       "    </tr>\n",
       "    <tr>\n",
       "      <th>1</th>\n",
       "      <td>newcust</td>\n",
       "      <td>49</td>\n",
       "    </tr>\n",
       "  </tbody>\n",
       "</table>\n",
       "</div>"
      ],
      "text/plain": [
       "       type  products\n",
       "0  custdemo        48\n",
       "1   newcust        49"
      ]
     },
     "execution_count": 926,
     "metadata": {},
     "output_type": "execute_result"
    }
   ],
   "source": [
    "prod_per_cust=pd.DataFrame({\"type\":['custdemo','newcust'],'products':[old,new]})\n",
    "prod_per_cust"
   ]
  },
  {
   "cell_type": "code",
   "execution_count": 941,
   "id": "f6b6ac1b",
   "metadata": {},
   "outputs": [
    {
     "data": {
      "image/png": "[encoded data removed]",
      "text/plain": [
       "<Figure size 432x288 with 1 Axes>"
      ]
     },
     "metadata": {
      "needs_background": "light"
     },
     "output_type": "display_data"
    },
    {
     "data": {
      "image/png": "[encoded data removed]",
      "text/plain": [
       "<Figure size 720x432 with 1 Axes>"
      ]
     },
     "metadata": {
      "needs_background": "light"
     },
     "output_type": "display_data"
    }
   ],
   "source": [
    "x = prod_per_cust['type']\n",
    "y =prod_per_cust['products']\n",
    "plt.plot(x,y)\n",
    "#plt.xticks([47,48,49,50])\n",
    "# Define plot space\n",
    "fig, ax = plt.subplots(figsize=(10, 6))\n",
    "# Create bar plot\n",
    "ax.bar(x,y)\n",
    "plt.title('product_per_costumers')\n",
    "plt.show()"
   ]
  },
  {
   "cell_type": "markdown",
   "id": "a2baabc8",
   "metadata": {},
   "source": [
    "### age"
   ]
  },
  {
   "cell_type": "code",
   "execution_count": 868,
   "id": "e6af4512",
   "metadata": {},
   "outputs": [],
   "source": [
    "def with_hue(plot, feature, Number_of_categories, hue_categories):\n",
    "    a = [p.get_height() for p in plot.patches]\n",
    "    patch = [p for p in plot.patches]\n",
    "    for i in range(Number_of_categories):\n",
    "        total = feature.value_counts().values[i]\n",
    "        for j in range(hue_categories):\n",
    "            percentage = '{:.1f}%'.format(100 * a[(j*Number_of_categories + i)]/total)\n",
    "            x = patch[(j*Number_of_categories + i)].get_x() + patch[(j*Number_of_categories + i)].get_width() / 2 - 0.15\n",
    "            y = patch[(j*Number_of_categories + i)].get_y() + patch[(j*Number_of_categories + i)].get_height() \n",
    "            ax.annotate(percentage, (x, y), size = 12)\n",
    "    plt.show()\n",
    "\n",
    "def without_hue(plot, feature):\n",
    "    total = len(feature)\n",
    "    for p in plot.patches:\n",
    "        percentage = '{:.1f}%'.format(100 * p.get_height()/total)\n",
    "        x = p.get_x() + p.get_width() / 2 - 0.05\n",
    "        y = p.get_y() + p.get_height()\n",
    "        ax.annotate(percentage, (x, y), size = 12)\n",
    "    plt.show()"
   ]
  },
  {
   "cell_type": "code",
   "execution_count": 869,
   "id": "a21f740b",
   "metadata": {
    "scrolled": true
   },
   "outputs": [
    {
     "name": "stderr",
     "output_type": "stream",
     "text": [
      "C:\\Users\\charan varma\\anaconda3\\lib\\site-packages\\seaborn\\_decorators.py:36: FutureWarning: Pass the following variable as a keyword arg: x. From version 0.12, the only valid positional argument will be `data`, and passing other arguments without an explicit keyword will result in an error or misinterpretation.\n",
      "  warnings.warn(\n"
     ]
    },
    {
     "data": {
      "image/png": "[encoded data removed]",
      "text/plain": [
       "<Figure size 504x360 with 1 Axes>"
      ]
     },
     "metadata": {
      "needs_background": "light"
     },
     "output_type": "display_data"
    }
   ],
   "source": [
    "sns.set_context(\"paper\", font_scale=2)\n",
    "plt.figure(figsize=(7,5))\n",
    "ax=sns.countplot('age',data=custdemovis)\n",
    "without_hue(ax,custdemovis.age)"
   ]
  },
  {
   "cell_type": "code",
   "execution_count": 870,
   "id": "012e329e",
   "metadata": {
    "scrolled": false
   },
   "outputs": [
    {
     "data": {
      "image/png": "[encoded data removed]",
      "text/plain": [
       "<Figure size 504x360 with 1 Axes>"
      ]
     },
     "metadata": {
      "needs_background": "light"
     },
     "output_type": "display_data"
    }
   ],
   "source": [
    "sns.set_context(\"paper\", font_scale=2)\n",
    "plt.figure(figsize=(7,5))\n",
    "ax=sns.countplot('age',data=newcustvis)\n",
    "without_hue(ax,newcustvis.age)"
   ]
  },
  {
   "cell_type": "markdown",
   "id": "c2cc0331",
   "metadata": {},
   "source": [
    "### job category"
   ]
  },
  {
   "cell_type": "code",
   "execution_count": 871,
   "id": "8427193d",
   "metadata": {
    "scrolled": true
   },
   "outputs": [
    {
     "data": {
      "image/png": "[encoded data removed]",
      "text/plain": [
       "<Figure size 1224x360 with 1 Axes>"
      ]
     },
     "metadata": {
      "needs_background": "light"
     },
     "output_type": "display_data"
    }
   ],
   "source": [
    "sns.set_context(\"paper\", font_scale=1.8)\n",
    "plt.figure(figsize=(17,5))\n",
    "ax=sns.countplot('job_industry_category',data=custdemovis,order = custdemovis['job_industry_category'].value_counts().index)\n",
    "without_hue(ax,custdemovis.job_industry_category)"
   ]
  },
  {
   "cell_type": "code",
   "execution_count": 878,
   "id": "22c3a616",
   "metadata": {
    "scrolled": true
   },
   "outputs": [
    {
     "data": {
      "text/plain": [
       "Financial Services    368\n",
       "Manufacturing         199\n",
       "Health                152\n",
       "Retail                 78\n",
       "Property               64\n",
       "IT                     51\n",
       "Entertainment          37\n",
       "Argiculture            26\n",
       "Telecommunications     25\n",
       "Name: job_industry_category, dtype: int64"
      ]
     },
     "execution_count": 878,
     "metadata": {},
     "output_type": "execute_result"
    }
   ],
   "source": [
    "newcustvis['job_industry_category'].value_counts()"
   ]
  },
  {
   "cell_type": "code",
   "execution_count": 882,
   "id": "403a8d08",
   "metadata": {
    "scrolled": true
   },
   "outputs": [
    {
     "name": "stderr",
     "output_type": "stream",
     "text": [
      "C:\\Users\\charan varma\\anaconda3\\lib\\site-packages\\seaborn\\_decorators.py:36: FutureWarning: Pass the following variable as a keyword arg: x. From version 0.12, the only valid positional argument will be `data`, and passing other arguments without an explicit keyword will result in an error or misinterpretation.\n",
      "  warnings.warn(\n"
     ]
    },
    {
     "data": {
      "image/png": "[encoded data removed]",
      "text/plain": [
       "<Figure size 1224x360 with 1 Axes>"
      ]
     },
     "metadata": {
      "needs_background": "light"
     },
     "output_type": "display_data"
    }
   ],
   "source": [
    "\n",
    "sns.set_context(\"paper\", font_scale=1.6)\n",
    "plt.figure(figsize=(17,5))\n",
    "ax=sns.countplot('job_industry_category',data=newcustvis,order = newcustvis['job_industry_category'].value_counts().index)\n",
    "\n",
    "without_hue(ax,newcustvis.job_industry_category)"
   ]
  },
  {
   "cell_type": "markdown",
   "id": "52a16b39",
   "metadata": {},
   "source": [
    "### gender"
   ]
  },
  {
   "cell_type": "code",
   "execution_count": 712,
   "id": "33d46194",
   "metadata": {},
   "outputs": [
    {
     "data": {
      "text/plain": [
       "<matplotlib.colors.ListedColormap at 0x1995e218070>"
      ]
     },
     "execution_count": 712,
     "metadata": {},
     "output_type": "execute_result"
    }
   ],
   "source": [
    "sns.color_palette(\"crest\", as_cmap=True)"
   ]
  },
  {
   "cell_type": "code",
   "execution_count": 713,
   "id": "577abc82",
   "metadata": {},
   "outputs": [
    {
     "data": {
      "text/plain": [
       "Female         2037\n",
       "Male           1871\n",
       "Unspecified      88\n",
       "Name: gender, dtype: int64"
      ]
     },
     "execution_count": 713,
     "metadata": {},
     "output_type": "execute_result"
    }
   ],
   "source": [
    "custdemovis['gender'].value_counts()"
   ]
  },
  {
   "cell_type": "code",
   "execution_count": 892,
   "id": "edc5cee0",
   "metadata": {},
   "outputs": [
    {
     "data": {
      "image/png": "[encoded data removed]",
      "text/plain": [
       "<Figure size 720x504 with 1 Axes>"
      ]
     },
     "metadata": {
      "needs_background": "light"
     },
     "output_type": "display_data"
    }
   ],
   "source": [
    "order =['Male','Female']\n",
    "sns.set_context(\"paper\", font_scale=1)\n",
    "fig_dims = (10,7)\n",
    "fig, ax = plt.subplots(figsize=fig_dims)\n",
    "sns.countplot(x = \"gender\",hue='age',ax=ax, data=custdemovis,order=order)\n",
    "with_hue(ax,custdemovis.gender,2,5)"
   ]
  },
  {
   "cell_type": "code",
   "execution_count": 899,
   "id": "019c25dc",
   "metadata": {},
   "outputs": [
    {
     "data": {
      "image/png": "[encoded data removed]",
      "text/plain": [
       "<Figure size 720x504 with 1 Axes>"
      ]
     },
     "metadata": {
      "needs_background": "light"
     },
     "output_type": "display_data"
    }
   ],
   "source": [
    "sns.set_context(\"paper\", font_scale=1)\n",
    "fig_dims = (10,7)\n",
    "fig, ax = plt.subplots(figsize=fig_dims)\n",
    "sns.countplot(x = \"gender\",hue='age',ax=ax, data=newcustvis,order=order)\n",
    "with_hue(ax,newcustvis.gender,2,5)"
   ]
  },
  {
   "cell_type": "code",
   "execution_count": 946,
   "id": "872596ce",
   "metadata": {},
   "outputs": [
    {
     "data": {
      "image/png": "[encoded data removed]",
      "text/plain": [
       "<Figure size 1296x720 with 1 Axes>"
      ]
     },
     "metadata": {
      "needs_background": "light"
     },
     "output_type": "display_data"
    }
   ],
   "source": [
    "hue_order_genders =['Male','Female']\n",
    "sns.set_context(\"paper\", font_scale=2)\n",
    "plt.figure(figsize=(18,10))\n",
    "ax=sns.countplot('age',hue='gender',hue_order=hue_order_genders,data=custdemovis)\n"
   ]
  },
  {
   "cell_type": "code",
   "execution_count": 947,
   "id": "57bf563b",
   "metadata": {},
   "outputs": [
    {
     "data": {
      "image/png": "[encoded data removed]",
      "text/plain": [
       "<Figure size 1296x720 with 1 Axes>"
      ]
     },
     "metadata": {
      "needs_background": "light"
     },
     "output_type": "display_data"
    }
   ],
   "source": [
    "sns.set_context(\"paper\", font_scale=2)\n",
    "plt.figure(figsize=(18,10))\n",
    "ax=sns.countplot('age',hue='gender',hue_order=hue_order_genders,data=newcustvis)"
   ]
  },
  {
   "cell_type": "markdown",
   "id": "fb45cd76",
   "metadata": {},
   "source": [
    "## wealthsegment"
   ]
  },
  {
   "cell_type": "code",
   "execution_count": 670,
   "id": "ad2427e6",
   "metadata": {},
   "outputs": [
    {
     "data": {
      "text/plain": [
       "Mass Customer        508\n",
       "High Net Worth       251\n",
       "Affluent Customer    241\n",
       "Name: wealth_segment, dtype: int64"
      ]
     },
     "execution_count": 670,
     "metadata": {},
     "output_type": "execute_result"
    }
   ],
   "source": [
    "newcustvis.wealth_segment.value_counts()"
   ]
  },
  {
   "cell_type": "code",
   "execution_count": 685,
   "id": "16af4400",
   "metadata": {},
   "outputs": [
    {
     "data": {
      "text/plain": [
       "<AxesSubplot:xlabel='age', ylabel='count'>"
      ]
     },
     "execution_count": 685,
     "metadata": {},
     "output_type": "execute_result"
    },
    {
     "data": {
      "image/png": "[encoded data removed]",
      "text/plain": [
       "<Figure size 720x504 with 1 Axes>"
      ]
     },
     "metadata": {
      "needs_background": "light"
     },
     "output_type": "display_data"
    }
   ],
   "source": [
    "sns.set_context(\"paper\", font_scale=2)\n",
    "fig_dims = (10,7)\n",
    "fig, ax = plt.subplots(figsize=fig_dims)\n",
    "hue_order=['Mass Customer','High Net Worth','Affluent Customer']\n",
    "sns.countplot(x = \"age\",hue='wealth_segment',ax=ax, data=custdemovis,hue_order=hue_order)"
   ]
  },
  {
   "cell_type": "code",
   "execution_count": 684,
   "id": "80cced5f",
   "metadata": {},
   "outputs": [
    {
     "data": {
      "text/plain": [
       "<AxesSubplot:xlabel='age', ylabel='count'>"
      ]
     },
     "execution_count": 684,
     "metadata": {},
     "output_type": "execute_result"
    },
    {
     "data": {
      "image/png": "[encoded data removed]",
      "text/plain": [
       "<Figure size 720x504 with 1 Axes>"
      ]
     },
     "metadata": {
      "needs_background": "light"
     },
     "output_type": "display_data"
    }
   ],
   "source": [
    "sns.set_context(\"paper\", font_scale=2)\n",
    "fig_dims = (10,7)\n",
    "fig, ax = plt.subplots(figsize=fig_dims)\n",
    "sns.countplot(x = \"age\",hue='wealth_segment',ax=ax, data=newcustvis,hue_order=hue_order)"
   ]
  },
  {
   "cell_type": "markdown",
   "id": "22bcd61e",
   "metadata": {},
   "source": [
    "## purchases  in last 3 years"
   ]
  },
  {
   "cell_type": "code",
   "execution_count": 721,
   "id": "08efec44",
   "metadata": {},
   "outputs": [
    {
     "data": {
      "text/plain": [
       "(3996, 15)"
      ]
     },
     "execution_count": 721,
     "metadata": {},
     "output_type": "execute_result"
    }
   ],
   "source": [
    "custdemovis.shape"
   ]
  },
  {
   "cell_type": "code",
   "execution_count": 732,
   "id": "d0eabe66",
   "metadata": {},
   "outputs": [
    {
     "data": {
      "text/plain": [
       "(1000, 17)"
      ]
     },
     "execution_count": 732,
     "metadata": {},
     "output_type": "execute_result"
    }
   ],
   "source": [
    "newcustvis.shape"
   ]
  },
  {
   "cell_type": "code",
   "execution_count": 742,
   "id": "31eab77b",
   "metadata": {},
   "outputs": [
    {
     "data": {
      "text/html": [
       "<div>\n",
       "<style scoped>\n",
       "    .dataframe tbody tr th:only-of-type {\n",
       "        vertical-align: middle;\n",
       "    }\n",
       "\n",
       "    .dataframe tbody tr th {\n",
       "        vertical-align: top;\n",
       "    }\n",
       "\n",
       "    .dataframe thead th {\n",
       "        text-align: right;\n",
       "    }\n",
       "</style>\n",
       "<table border=\"1\" class=\"dataframe\">\n",
       "  <thead>\n",
       "    <tr style=\"text-align: right;\">\n",
       "      <th></th>\n",
       "      <th>purchased_by</th>\n",
       "      <th>quantity</th>\n",
       "    </tr>\n",
       "  </thead>\n",
       "  <tbody>\n",
       "    <tr>\n",
       "      <th>0</th>\n",
       "      <td>purchases_by_male</td>\n",
       "      <td>93379</td>\n",
       "    </tr>\n",
       "    <tr>\n",
       "      <th>1</th>\n",
       "      <td>purchases_by_female</td>\n",
       "      <td>98231</td>\n",
       "    </tr>\n",
       "    <tr>\n",
       "      <th>2</th>\n",
       "      <td>purchasesunspecific</td>\n",
       "      <td>3718</td>\n",
       "    </tr>\n",
       "  </tbody>\n",
       "</table>\n",
       "</div>"
      ],
      "text/plain": [
       "          purchased_by  quantity\n",
       "0    purchases_by_male     93379\n",
       "1  purchases_by_female     98231\n",
       "2  purchasesunspecific      3718"
      ]
     },
     "execution_count": 742,
     "metadata": {},
     "output_type": "execute_result"
    }
   ],
   "source": [
    "M=0\n",
    "F=0\n",
    "U=0\n",
    "for i in range(3996):\n",
    "    if custdemovis['gender'][i]=='Male':\n",
    "        M +=custdemovis['past_3_years_bike_related_purchases'][i]\n",
    "    elif custdemovis['gender'][i]=='Female':\n",
    "        F +=custdemovis['past_3_years_bike_related_purchases'][i]\n",
    "    else:\n",
    "        U +=custdemovis['past_3_years_bike_related_purchases'][i]\n",
    "old_purchases = pd.DataFrame({'purchased_by':['purchases_by_male','purchases_by_female','purchasesunspecific'],'quantity':[M,F,U]})\n",
    "old_purchases"
   ]
  },
  {
   "cell_type": "code",
   "execution_count": 743,
   "id": "bbeb3e1b",
   "metadata": {},
   "outputs": [
    {
     "data": {
      "text/html": [
       "<div>\n",
       "<style scoped>\n",
       "    .dataframe tbody tr th:only-of-type {\n",
       "        vertical-align: middle;\n",
       "    }\n",
       "\n",
       "    .dataframe tbody tr th {\n",
       "        vertical-align: top;\n",
       "    }\n",
       "\n",
       "    .dataframe thead th {\n",
       "        text-align: right;\n",
       "    }\n",
       "</style>\n",
       "<table border=\"1\" class=\"dataframe\">\n",
       "  <thead>\n",
       "    <tr style=\"text-align: right;\">\n",
       "      <th></th>\n",
       "      <th>purchased_by</th>\n",
       "      <th>quantity</th>\n",
       "    </tr>\n",
       "  </thead>\n",
       "  <tbody>\n",
       "    <tr>\n",
       "      <th>0</th>\n",
       "      <td>purchases_by_male</td>\n",
       "      <td>23765</td>\n",
       "    </tr>\n",
       "    <tr>\n",
       "      <th>1</th>\n",
       "      <td>purchases_by_female</td>\n",
       "      <td>25212</td>\n",
       "    </tr>\n",
       "    <tr>\n",
       "      <th>2</th>\n",
       "      <td>purchasesunspecific</td>\n",
       "      <td>859</td>\n",
       "    </tr>\n",
       "  </tbody>\n",
       "</table>\n",
       "</div>"
      ],
      "text/plain": [
       "          purchased_by  quantity\n",
       "0    purchases_by_male     23765\n",
       "1  purchases_by_female     25212\n",
       "2  purchasesunspecific       859"
      ]
     },
     "execution_count": 743,
     "metadata": {},
     "output_type": "execute_result"
    }
   ],
   "source": [
    "M=0\n",
    "F=0\n",
    "U=0\n",
    "for i in range(1000):\n",
    "    if newcustvis['gender'][i]=='Male':\n",
    "        M +=newcustvis['past_3_years_bike_related_purchases'][i]\n",
    "    elif newcustvis['gender'][i]=='Female':\n",
    "        F +=newcustvis['past_3_years_bike_related_purchases'][i]\n",
    "    else:\n",
    "        U +=newcustvis['past_3_years_bike_related_purchases'][i]\n",
    "new_purchases =pd.DataFrame({'purchased_by':['purchases_by_male','purchases_by_female','purchasesunspecific'],'quantity':[M,F,U]})\n",
    "new_purchases"
   ]
  },
  {
   "cell_type": "code",
   "execution_count": 769,
   "id": "f282b1a7",
   "metadata": {},
   "outputs": [
    {
     "data": {
      "text/plain": [
       "<AxesSubplot:xlabel='purchased_by', ylabel='quantity'>"
      ]
     },
     "execution_count": 769,
     "metadata": {},
     "output_type": "execute_result"
    },
    {
     "data": {
      "image/png": "[encoded data removed]",
      "text/plain": [
       "<Figure size 720x504 with 1 Axes>"
      ]
     },
     "metadata": {
      "needs_background": "light"
     },
     "output_type": "display_data"
    }
   ],
   "source": [
    "sns.set_context(\"paper\", font_scale=1.4)\n",
    "fig_dims = (10,7)\n",
    "fig, ax = plt.subplots(figsize=fig_dims)\n",
    "sns.barplot(x='purchased_by',y='quantity',data=old_purchases)\n",
    "\n"
   ]
  },
  {
   "cell_type": "code",
   "execution_count": 770,
   "id": "a18240d0",
   "metadata": {},
   "outputs": [
    {
     "data": {
      "text/plain": [
       "<AxesSubplot:xlabel='purchased_by', ylabel='quantity'>"
      ]
     },
     "execution_count": 770,
     "metadata": {},
     "output_type": "execute_result"
    },
    {
     "data": {
      "image/png": "[encoded data removed]",
      "text/plain": [
       "<Figure size 720x504 with 1 Axes>"
      ]
     },
     "metadata": {
      "needs_background": "light"
     },
     "output_type": "display_data"
    }
   ],
   "source": [
    "sns.set_context(\"paper\", font_scale=1.4)\n",
    "fig_dims = (10,7)\n",
    "fig, ax = plt.subplots(figsize=fig_dims)\n",
    "sns.barplot(x='purchased_by',y='quantity',data=new_purchases)"
   ]
  },
  {
   "cell_type": "code",
   "execution_count": 772,
   "id": "42729a7e",
   "metadata": {},
   "outputs": [
    {
     "data": {
      "text/plain": [
       "NSW                2052\n",
       "VIC                 939\n",
       "QLD                 837\n",
       "New South Wales      86\n",
       "Victoria             82\n",
       "Name: state, dtype: int64"
      ]
     },
     "execution_count": 772,
     "metadata": {},
     "output_type": "execute_result"
    }
   ],
   "source": [
    "custdemovis['state'].value_counts()##from "
   ]
  },
  {
   "cell_type": "code",
   "execution_count": 779,
   "id": "90683b1b",
   "metadata": {
    "scrolled": false
   },
   "outputs": [
    {
     "data": {
      "text/plain": [
       "<AxesSubplot:xlabel='state', ylabel='count'>"
      ]
     },
     "execution_count": 779,
     "metadata": {},
     "output_type": "execute_result"
    },
    {
     "data": {
      "image/png": "[encoded data removed]",
      "text/plain": [
       "<Figure size 720x504 with 1 Axes>"
      ]
     },
     "metadata": {
      "needs_background": "light"
     },
     "output_type": "display_data"
    }
   ],
   "source": [
    "order_states =['NSW','VIC','QLD','New South Wales','Victoria']\n",
    "sns.set_context(\"paper\", font_scale=2)\n",
    "fig_dims = (10,7)\n",
    "fig, ax = plt.subplots(figsize=fig_dims)\n",
    "sns.countplot(x = \"state\",ax=ax, data=custdemovis,order=order_states)"
   ]
  },
  {
   "cell_type": "code",
   "execution_count": 781,
   "id": "f488b899",
   "metadata": {},
   "outputs": [
    {
     "data": {
      "text/plain": [
       "<AxesSubplot:xlabel='state', ylabel='count'>"
      ]
     },
     "execution_count": 781,
     "metadata": {},
     "output_type": "execute_result"
    },
    {
     "data": {
      "image/png": "[encoded data removed]",
      "text/plain": [
       "<Figure size 720x504 with 1 Axes>"
      ]
     },
     "metadata": {
      "needs_background": "light"
     },
     "output_type": "display_data"
    }
   ],
   "source": [
    "order_new_states =['NSW','VIC','QLD']\n",
    "sns.set_context(\"paper\", font_scale=2)\n",
    "fig_dims = (10,7)\n",
    "fig, ax = plt.subplots(figsize=fig_dims)\n",
    "sns.countplot(x = \"state\",ax=ax, data=newcustvis,order=order_new_states)"
   ]
  },
  {
   "cell_type": "code",
   "execution_count": 782,
   "id": "0da9417a",
   "metadata": {},
   "outputs": [
    {
     "data": {
      "text/plain": [
       "<AxesSubplot:xlabel='state', ylabel='count'>"
      ]
     },
     "execution_count": 782,
     "metadata": {},
     "output_type": "execute_result"
    },
    {
     "data": {
      "image/png": "[encoded data removed]",
      "text/plain": [
       "<Figure size 720x504 with 1 Axes>"
      ]
     },
     "metadata": {
      "needs_background": "light"
     },
     "output_type": "display_data"
    }
   ],
   "source": [
    "order_new_states =['NSW','VIC','QLD']\n",
    "sns.set_context(\"paper\", font_scale=2)\n",
    "fig_dims = (10,7)\n",
    "fig, ax = plt.subplots(figsize=fig_dims)\n",
    "sns.countplot(x = \"state\",ax=ax, hue='owns_car',data=newcustvis,order=order_new_states)"
   ]
  },
  {
   "cell_type": "code",
   "execution_count": 803,
   "id": "b00493b8",
   "metadata": {
    "scrolled": true
   },
   "outputs": [
    {
     "data": {
      "text/plain": [
       "2"
      ]
     },
     "execution_count": 803,
     "metadata": {},
     "output_type": "execute_result"
    }
   ],
   "source": [
    "custdemovis['address'].value_counts().max()"
   ]
  },
  {
   "cell_type": "code",
   "execution_count": 802,
   "id": "b5bb9ae6",
   "metadata": {},
   "outputs": [
    {
     "data": {
      "text/plain": [
       "1"
      ]
     },
     "execution_count": 802,
     "metadata": {},
     "output_type": "execute_result"
    }
   ],
   "source": [
    "newcustvis['address'].value_counts().max()"
   ]
  },
  {
   "cell_type": "code",
   "execution_count": 799,
   "id": "1c09fbf1",
   "metadata": {},
   "outputs": [],
   "source": [
    "## so max there are only 2 cycles per home"
   ]
  },
  {
   "cell_type": "code",
   "execution_count": 800,
   "id": "e4615786",
   "metadata": {},
   "outputs": [
    {
     "data": {
      "text/plain": [
       "7.0     322\n",
       "5.0     228\n",
       "11.0    220\n",
       "10.0    218\n",
       "16.0    215\n",
       "8.0     211\n",
       "18.0    208\n",
       "12.0    202\n",
       "14.0    200\n",
       "9.0     200\n",
       "6.0     192\n",
       "4.0     191\n",
       "13.0    191\n",
       "17.0    182\n",
       "15.0    178\n",
       "1.0     165\n",
       "3.0     160\n",
       "19.0    159\n",
       "2.0     150\n",
       "20.0     95\n",
       "22.0     55\n",
       "21.0     54\n",
       "Name: tenure, dtype: int64"
      ]
     },
     "execution_count": 800,
     "metadata": {},
     "output_type": "execute_result"
    }
   ],
   "source": [
    "custdemovis['tenure'].value_counts()"
   ]
  },
  {
   "cell_type": "code",
   "execution_count": 949,
   "id": "ed18c777",
   "metadata": {},
   "outputs": [
    {
     "data": {
      "text/plain": [
       "<AxesSubplot:xlabel='past_3_years_bike_related_purchases', ylabel='count'>"
      ]
     },
     "execution_count": 949,
     "metadata": {},
     "output_type": "execute_result"
    },
    {
     "data": {
      "image/png": "[encoded data removed]",
      "text/plain": [
       "<Figure size 720x504 with 1 Axes>"
      ]
     },
     "metadata": {
      "needs_background": "light"
     },
     "output_type": "display_data"
    }
   ],
   "source": [
    "\n",
    "sns.set_context(\"paper\", font_scale=2)\n",
    "fig_dims = (10,7)\n",
    "fig, ax = plt.subplots(figsize=fig_dims)\n",
    "sns.countplot(x = \"past_3_years_bike_related_purchases\",ax=ax, data=custdemovis)"
   ]
  },
  {
   "cell_type": "code",
   "execution_count": 952,
   "id": "159ffdf1",
   "metadata": {},
   "outputs": [
    {
     "name": "stderr",
     "output_type": "stream",
     "text": [
      "C:\\Users\\charan varma\\anaconda3\\lib\\site-packages\\seaborn\\distributions.py:2557: FutureWarning: `distplot` is a deprecated function and will be removed in a future version. Please adapt your code to use either `displot` (a figure-level function with similar flexibility) or `histplot` (an axes-level function for histograms).\n",
      "  warnings.warn(msg, FutureWarning)\n"
     ]
    },
    {
     "data": {
      "text/plain": [
       "<AxesSubplot:xlabel='past_3_years_bike_related_purchases', ylabel='Density'>"
      ]
     },
     "execution_count": 952,
     "metadata": {},
     "output_type": "execute_result"
    },
    {
     "data": {
      "image/png": "[encoded data removed]",
      "text/plain": [
       "<Figure size 864x648 with 1 Axes>"
      ]
     },
     "metadata": {
      "needs_background": "light"
     },
     "output_type": "display_data"
    }
   ],
   "source": [
    "from scipy import stats\n",
    "plt.subplots(figsize=(12,9))\n",
    "sns.distplot(custdemovis['past_3_years_bike_related_purchases'], fit=stats.norm)"
   ]
  },
  {
   "cell_type": "code",
   "execution_count": 953,
   "id": "e6864ac3",
   "metadata": {},
   "outputs": [
    {
     "data": {
      "text/html": [
       "<div>\n",
       "<style scoped>\n",
       "    .dataframe tbody tr th:only-of-type {\n",
       "        vertical-align: middle;\n",
       "    }\n",
       "\n",
       "    .dataframe tbody tr th {\n",
       "        vertical-align: top;\n",
       "    }\n",
       "\n",
       "    .dataframe thead th {\n",
       "        text-align: right;\n",
       "    }\n",
       "</style>\n",
       "<table border=\"1\" class=\"dataframe\">\n",
       "  <thead>\n",
       "    <tr style=\"text-align: right;\">\n",
       "      <th></th>\n",
       "      <th>customer_id</th>\n",
       "      <th>past_3_years_bike_related_purchases</th>\n",
       "      <th>tenure</th>\n",
       "      <th>postcode</th>\n",
       "      <th>property_valuation</th>\n",
       "    </tr>\n",
       "  </thead>\n",
       "  <tbody>\n",
       "    <tr>\n",
       "      <th>customer_id</th>\n",
       "      <td>1.000000</td>\n",
       "      <td>-0.001987</td>\n",
       "      <td>-0.019972</td>\n",
       "      <td>0.011370</td>\n",
       "      <td>-0.012311</td>\n",
       "    </tr>\n",
       "    <tr>\n",
       "      <th>past_3_years_bike_related_purchases</th>\n",
       "      <td>-0.001987</td>\n",
       "      <td>1.000000</td>\n",
       "      <td>-0.006209</td>\n",
       "      <td>-0.007502</td>\n",
       "      <td>0.009171</td>\n",
       "    </tr>\n",
       "    <tr>\n",
       "      <th>tenure</th>\n",
       "      <td>-0.019972</td>\n",
       "      <td>-0.006209</td>\n",
       "      <td>1.000000</td>\n",
       "      <td>-0.002505</td>\n",
       "      <td>-0.004566</td>\n",
       "    </tr>\n",
       "    <tr>\n",
       "      <th>postcode</th>\n",
       "      <td>0.011370</td>\n",
       "      <td>-0.007502</td>\n",
       "      <td>-0.002505</td>\n",
       "      <td>1.000000</td>\n",
       "      <td>-0.508519</td>\n",
       "    </tr>\n",
       "    <tr>\n",
       "      <th>property_valuation</th>\n",
       "      <td>-0.012311</td>\n",
       "      <td>0.009171</td>\n",
       "      <td>-0.004566</td>\n",
       "      <td>-0.508519</td>\n",
       "      <td>1.000000</td>\n",
       "    </tr>\n",
       "  </tbody>\n",
       "</table>\n",
       "</div>"
      ],
      "text/plain": [
       "                                     customer_id  \\\n",
       "customer_id                             1.000000   \n",
       "past_3_years_bike_related_purchases    -0.001987   \n",
       "tenure                                 -0.019972   \n",
       "postcode                                0.011370   \n",
       "property_valuation                     -0.012311   \n",
       "\n",
       "                                     past_3_years_bike_related_purchases  \\\n",
       "customer_id                                                    -0.001987   \n",
       "past_3_years_bike_related_purchases                             1.000000   \n",
       "tenure                                                         -0.006209   \n",
       "postcode                                                       -0.007502   \n",
       "property_valuation                                              0.009171   \n",
       "\n",
       "                                       tenure  postcode  property_valuation  \n",
       "customer_id                         -0.019972  0.011370           -0.012311  \n",
       "past_3_years_bike_related_purchases -0.006209 -0.007502            0.009171  \n",
       "tenure                               1.000000 -0.002505           -0.004566  \n",
       "postcode                            -0.002505  1.000000           -0.508519  \n",
       "property_valuation                  -0.004566 -0.508519            1.000000  "
      ]
     },
     "execution_count": 953,
     "metadata": {},
     "output_type": "execute_result"
    }
   ],
   "source": [
    "custdemovis.corr()"
   ]
  },
  {
   "cell_type": "code",
   "execution_count": 956,
   "id": "84d10ba7",
   "metadata": {},
   "outputs": [
    {
     "data": {
      "text/plain": [
       "<AxesSubplot:>"
      ]
     },
     "execution_count": 956,
     "metadata": {},
     "output_type": "execute_result"
    },
    {
     "data": {
      "image/png": "[encoded data removed]",
      "text/plain": [
       "<Figure size 432x288 with 2 Axes>"
      ]
     },
     "metadata": {
      "needs_background": "light"
     },
     "output_type": "display_data"
    }
   ],
   "source": [
    "sns.heatmap(custdemovis.corr(), annot=True, fmt= '.3f')"
   ]
  },
  {
   "cell_type": "code",
   "execution_count": null,
   "id": "b946a437",
   "metadata": {},
   "outputs": [],
   "source": []
  }
 ],
 "metadata": {
  "kernelspec": {
   "display_name": "Python 3",
   "language": "python",
   "name": "python3"
  },
  "language_info": {
   "codemirror_mode": {
    "name": "ipython",
    "version": 3
   },
   "file_extension": ".py",
   "mimetype": "text/x-python",
   "name": "python",
   "nbconvert_exporter": "python",
   "pygments_lexer": "ipython3",
   "version": "3.8.5"
  }
 },
 "nbformat": 4,
 "nbformat_minor": 5
}
